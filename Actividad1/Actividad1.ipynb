{
  "nbformat": 4,
  "nbformat_minor": 0,
  "metadata": {
    "colab": {
      "provenance": [],
      "authorship_tag": "ABX9TyMLRBxdPn+qVj+8dvqAEPcp",
      "include_colab_link": true
    },
    "kernelspec": {
      "name": "python3",
      "display_name": "Python 3"
    },
    "language_info": {
      "name": "python"
    }
  },
  "cells": [
    {
      "cell_type": "markdown",
      "metadata": {
        "id": "view-in-github",
        "colab_type": "text"
      },
      "source": [
        "<a href=\"https://colab.research.google.com/github/Nikolai0Huarcaya/C8280/blob/main/Actividad1.ipynb\" target=\"_parent\"><img src=\"https://colab.research.google.com/assets/colab-badge.svg\" alt=\"Open In Colab\"/></a>"
      ]
    },
    {
      "cell_type": "markdown",
      "source": [
        "# **CLI USO DE COMANDOS Y PANDAS - VICTOR NIKOLAI HUARCAYA PUMACAYO**"
      ],
      "metadata": {
        "id": "GESuIRM8Zn1T"
      }
    },
    {
      "cell_type": "markdown",
      "source": [
        "**USUSANDO COMANDOS**"
      ],
      "metadata": {
        "id": "p-eNR0v2U53S"
      }
    },
    {
      "cell_type": "markdown",
      "source": [
        "**Descargando un paquete para poder trabajar**"
      ],
      "metadata": {
        "id": "d4isWoUHVI-a"
      }
    },
    {
      "cell_type": "code",
      "source": [
        "!apt-get install -y curl\n"
      ],
      "metadata": {
        "colab": {
          "base_uri": "https://localhost:8080/"
        },
        "id": "MfRUw6O7VGET",
        "outputId": "76f42af4-17dd-451d-f74d-887134a8ddf9"
      },
      "execution_count": 36,
      "outputs": [
        {
          "output_type": "stream",
          "name": "stdout",
          "text": [
            "Reading package lists... Done\n",
            "Building dependency tree       \n",
            "Reading state information... Done\n",
            "curl is already the newest version (7.68.0-1ubuntu2.18).\n",
            "0 upgraded, 0 newly installed, 0 to remove and 38 not upgraded.\n"
          ]
        }
      ]
    },
    {
      "cell_type": "markdown",
      "source": [
        "**Llamamos al data.tsv**"
      ],
      "metadata": {
        "id": "VsZOqNI-VQ-i"
      }
    },
    {
      "cell_type": "code",
      "source": [
        "!head data.tsv\n"
      ],
      "metadata": {
        "colab": {
          "base_uri": "https://localhost:8080/"
        },
        "id": "zviMFSGHVIka",
        "outputId": "1e1e040a-673b-446b-b96c-468d8ee36271"
      },
      "execution_count": 37,
      "outputs": [
        {
          "output_type": "stream",
          "name": "stdout",
          "text": [
            "order_id\tquantity\titem_name\tchoice_description\titem_price\n",
            "1\t1\tChips and Fresh Tomato Salsa\tNULL\t$2.39 \n",
            "1\t1\tIzze\t[Clementine]\t$3.39 \n",
            "1\t1\tNantucket Nectar\t[Apple]\t$3.39 \n",
            "1\t1\tChips and Tomatillo-Green Chili Salsa\tNULL\t$2.39 \n",
            "2\t2\tChicken Bowl\t[Tomatillo-Red Chili Salsa (Hot), [Black Beans, Rice, Cheese, Sour Cream]]\t$16.98 \n",
            "3\t1\tChicken Bowl\t[Fresh Tomato Salsa (Mild), [Rice, Cheese, Sour Cream, Guacamole, Lettuce]]\t$10.98 \n",
            "3\t1\tSide of Chips\tNULL\t$1.69 \n",
            "4\t1\tSteak Burrito\t[Tomatillo Red Chili Salsa, [Fajita Vegetables, Black Beans, Pinto Beans, Cheese, Sour Cream, Guacamole, Lettuce]]\t$11.75 \n",
            "4\t1\tSteak Soft Tacos\t[Tomatillo Green Chili Salsa, [Pinto Beans, Cheese, Sour Cream, Lettuce]]\t$9.25 \n"
          ]
        }
      ]
    },
    {
      "cell_type": "markdown",
      "source": [
        "**Ordenando el data.tsv**\n"
      ],
      "metadata": {
        "id": "4OsVJ2ylVpm_"
      }
    },
    {
      "cell_type": "code",
      "source": [
        "!cat data.tsv | column -t -s $'\\t'\n",
        "#Nos muestra todos los datos del data.tsv"
      ],
      "metadata": {
        "id": "6QO1h1KcVzon"
      },
      "execution_count": null,
      "outputs": []
    },
    {
      "cell_type": "markdown",
      "source": [
        "**Llamando solo 2 filas de nuestro data.tsv**"
      ],
      "metadata": {
        "id": "Gmn_H5-FWZZy"
      }
    },
    {
      "cell_type": "code",
      "source": [
        "!head -n 2 data.tsv | column -t -s $'\\t'\n"
      ],
      "metadata": {
        "colab": {
          "base_uri": "https://localhost:8080/"
        },
        "id": "xLBm-vsvWGvd",
        "outputId": "93539e95-4da4-4865-c70f-4af70dff7852"
      },
      "execution_count": 24,
      "outputs": [
        {
          "output_type": "stream",
          "name": "stdout",
          "text": [
            "order_id  quantity  item_name                     choice_description  item_price\n",
            "1         1         Chips and Fresh Tomato Salsa  NULL                $2.39 \n"
          ]
        }
      ]
    },
    {
      "cell_type": "markdown",
      "source": [
        "**Llamando las columnas**"
      ],
      "metadata": {
        "id": "ipqhI06kc6wJ"
      }
    },
    {
      "cell_type": "code",
      "source": [
        "!head -n 1 data.tsv\n"
      ],
      "metadata": {
        "colab": {
          "base_uri": "https://localhost:8080/"
        },
        "id": "tTyqF8EfcFr0",
        "outputId": "bba6ffef-72ee-4876-b435-84625a9053ea"
      },
      "execution_count": 23,
      "outputs": [
        {
          "output_type": "stream",
          "name": "stdout",
          "text": [
            "order_id\tquantity\titem_name\tchoice_description\titem_price\n"
          ]
        }
      ]
    },
    {
      "cell_type": "markdown",
      "source": [
        "**Pregunta 1.- Mire en la parte superior e inferior de data.tsv entregado en esta actividad. Piensa en cómo se estructuran los datos. ¿Qué crees que significa cada columna? ¿Qué crees que significa cada fila?**\n",
        "\n",
        "\n",
        "\n",
        "*   \n",
        "Respuesta 1 : Primero mencionaremos con respecto a las columnas, que son \n",
        "los datos que quedan registrados en la bas de datos una vez que son ingresados como se puede mostrar en los códigos de parte de abajo.\n",
        "*   \n",
        "Respuesta 2: Por otro lado las filas son las carácterísticas, como son el número total de datos, se podría ser que son la cantidad pedida por cada dato ingresado, obviamente los datos ingresados y trambién la descripción de ellos tendra un platillo o tabla que se demuestra exprese.\n",
        "\n",
        "\n",
        "\n"
      ],
      "metadata": {
        "id": "jgEBCgLeXPLd"
      }
    },
    {
      "cell_type": "markdown",
      "source": [
        "**2.- ¿Cuántos pedidos parece haber?**\n"
      ],
      "metadata": {
        "id": "RdJOQOBfZhqI"
      }
    },
    {
      "cell_type": "code",
      "source": [
        "!tail data.tsv\n"
      ],
      "metadata": {
        "colab": {
          "base_uri": "https://localhost:8080/"
        },
        "id": "IySgux2tVjtP",
        "outputId": "0720fc4f-4ca1-466c-f49f-67af0c23df4f"
      },
      "execution_count": 3,
      "outputs": [
        {
          "output_type": "stream",
          "name": "stdout",
          "text": [
            "1831\t1\tChips\tNULL\t$2.15 \n",
            "1831\t1\tBottled Water\tNULL\t$1.50 \n",
            "1832\t1\tChicken Soft Tacos\t[Fresh Tomato Salsa, [Rice, Cheese, Sour Cream]]\t$8.75 \n",
            "1832\t1\tChips and Guacamole\tNULL\t$4.45 \n",
            "1833\t1\tSteak Burrito\t[Fresh Tomato Salsa, [Rice, Black Beans, Sour Cream, Cheese, Lettuce, Guacamole]]\t$11.75 \n",
            "1833\t1\tSteak Burrito\t[Fresh Tomato Salsa, [Rice, Sour Cream, Cheese, Lettuce, Guacamole]]\t$11.75 \n",
            "1834\t1\tChicken Salad Bowl\t[Fresh Tomato Salsa, [Fajita Vegetables, Pinto Beans, Guacamole, Lettuce]]\t$11.25 \n",
            "1834\t1\tChicken Salad Bowl\t[Fresh Tomato Salsa, [Fajita Vegetables, Lettuce]]\t$8.75 \n",
            "1834\t1\tChicken Salad Bowl\t[Fresh Tomato Salsa, [Fajita Vegetables, Pinto Beans, Lettuce]]\t$8.75 \n",
            "\n"
          ]
        }
      ]
    },
    {
      "cell_type": "markdown",
      "source": [
        "Con el comando anterior podemos saber que hay un total de 1833 pedidos "
      ],
      "metadata": {
        "id": "vdKIjwXSaPq3"
      }
    },
    {
      "cell_type": "markdown",
      "source": [
        "**3.-¿Cuántas líneas hay en este archivo?**\n"
      ],
      "metadata": {
        "id": "O1ND_mCWXs7q"
      }
    },
    {
      "cell_type": "code",
      "source": [
        "!wc -l data.tsv\n"
      ],
      "metadata": {
        "colab": {
          "base_uri": "https://localhost:8080/"
        },
        "id": "Qw9818FvX_6R",
        "outputId": "020a930e-9f55-4d03-8314-174d4b4936c3"
      },
      "execution_count": 8,
      "outputs": [
        {
          "output_type": "stream",
          "name": "stdout",
          "text": [
            "4624 data.tsv\n"
          ]
        }
      ]
    },
    {
      "cell_type": "markdown",
      "source": [
        "Con el comando anterior podemos saber que en el archivo se encuentran 4622 líneas."
      ],
      "metadata": {
        "id": "y9E78eHsZ7yg"
      }
    },
    {
      "cell_type": "markdown",
      "source": [
        "**4.-¿Qué burrito es más popular, steak o chicken?**"
      ],
      "metadata": {
        "id": "GW6yofKbaRUU"
      }
    },
    {
      "cell_type": "markdown",
      "source": [
        "**Primero hacemos un código para steak para comparlo después con chicken**\n"
      ],
      "metadata": {
        "id": "yK02uSqEbfE4"
      }
    },
    {
      "cell_type": "code",
      "source": [
        "#Steak\n",
        "!grep -i 'steak burrito' data.tsv | wc -l\n"
      ],
      "metadata": {
        "colab": {
          "base_uri": "https://localhost:8080/"
        },
        "id": "3tO0V4MjaWuF",
        "outputId": "be3393a2-a030-4528-da0d-c76138930f07"
      },
      "execution_count": 9,
      "outputs": [
        {
          "output_type": "stream",
          "name": "stdout",
          "text": [
            "368\n"
          ]
        }
      ]
    },
    {
      "cell_type": "code",
      "source": [
        "#Chicken\n",
        "!grep -i 'chicken burrito' data.tsv | wc -l"
      ],
      "metadata": {
        "colab": {
          "base_uri": "https://localhost:8080/"
        },
        "id": "-X-RsNMnbx-h",
        "outputId": "363d8bf0-48e8-4b2a-8751-88457876bca9"
      },
      "execution_count": 10,
      "outputs": [
        {
          "output_type": "stream",
          "name": "stdout",
          "text": [
            "553\n"
          ]
        }
      ]
    },
    {
      "cell_type": "markdown",
      "source": [
        "Con los códigos que pusimos anteriormente y con la salida de cada uno, se afirma que **el burrito más popular es chicken con 553**."
      ],
      "metadata": {
        "id": "y-WIrMAhb0_V"
      }
    },
    {
      "cell_type": "markdown",
      "source": [
        "**5.-¿Los burritos de pollo suelen tener frijoles negros o frijoles pintos?**"
      ],
      "metadata": {
        "id": "drpFWnZnb5bO"
      }
    },
    {
      "cell_type": "code",
      "source": [
        "#burritos de pollo con frijoles negros\n",
        "!grep -i 'chicken burrito' data.tsv | grep -i 'black beans' | wc -l"
      ],
      "metadata": {
        "colab": {
          "base_uri": "https://localhost:8080/"
        },
        "id": "vl_uNcL8d3_Z",
        "outputId": "a58f4f2c-d9a7-43d6-c175-0114fee2228a"
      },
      "execution_count": 25,
      "outputs": [
        {
          "output_type": "stream",
          "name": "stdout",
          "text": [
            "282\n"
          ]
        }
      ]
    },
    {
      "cell_type": "code",
      "source": [
        "#burritos de pollo con frijoles pintos\n",
        "!grep -i 'chicken burrito' data.tsv | grep -i 'pinto beans' | wc -l"
      ],
      "metadata": {
        "colab": {
          "base_uri": "https://localhost:8080/"
        },
        "id": "_ooxmr52d67y",
        "outputId": "0a8cf970-e2c2-4d9c-bd5c-d50682a5c26a"
      },
      "execution_count": 26,
      "outputs": [
        {
          "output_type": "stream",
          "name": "stdout",
          "text": [
            "105\n"
          ]
        }
      ]
    },
    {
      "cell_type": "markdown",
      "source": [
        "Con esto podemos decir que los burritos de pollo con frijoles negros suelen tener 282 y los burritos de pollo con frijoles pintos suelen a tener 105"
      ],
      "metadata": {
        "id": "CQ5MEeAyeJjP"
      }
    },
    {
      "cell_type": "markdown",
      "source": [
        "**6.-Usa la línea de comandos para descubrir algo interesante sobre los datos dados.**"
      ],
      "metadata": {
        "id": "iTSwax8reYEm"
      }
    },
    {
      "cell_type": "code",
      "source": [
        "!head -n 10 data.tsv\n"
      ],
      "metadata": {
        "colab": {
          "base_uri": "https://localhost:8080/"
        },
        "id": "WANVGPFCf2LQ",
        "outputId": "33bf3a35-b2af-4f85-d452-1c7c1312674a"
      },
      "execution_count": 41,
      "outputs": [
        {
          "output_type": "stream",
          "name": "stdout",
          "text": [
            "order_id\tquantity\titem_name\tchoice_description\titem_price\n",
            "1\t1\tChips and Fresh Tomato Salsa\tNULL\t$2.39 \n",
            "1\t1\tIzze\t[Clementine]\t$3.39 \n",
            "1\t1\tNantucket Nectar\t[Apple]\t$3.39 \n",
            "1\t1\tChips and Tomatillo-Green Chili Salsa\tNULL\t$2.39 \n",
            "2\t2\tChicken Bowl\t[Tomatillo-Red Chili Salsa (Hot), [Black Beans, Rice, Cheese, Sour Cream]]\t$16.98 \n",
            "3\t1\tChicken Bowl\t[Fresh Tomato Salsa (Mild), [Rice, Cheese, Sour Cream, Guacamole, Lettuce]]\t$10.98 \n",
            "3\t1\tSide of Chips\tNULL\t$1.69 \n",
            "4\t1\tSteak Burrito\t[Tomatillo Red Chili Salsa, [Fajita Vegetables, Black Beans, Pinto Beans, Cheese, Sour Cream, Guacamole, Lettuce]]\t$11.75 \n",
            "4\t1\tSteak Soft Tacos\t[Tomatillo Green Chili Salsa, [Pinto Beans, Cheese, Sour Cream, Lettuce]]\t$9.25 \n"
          ]
        }
      ]
    },
    {
      "cell_type": "markdown",
      "source": [
        "En este comando solo se esta llamando solo 10 filas del data.tsv"
      ],
      "metadata": {
        "id": "eXo_iXGrg0aR"
      }
    },
    {
      "cell_type": "markdown",
      "source": [
        "**USANDO PANDAS**"
      ],
      "metadata": {
        "id": "wUShmHQIU1V8"
      }
    },
    {
      "cell_type": "markdown",
      "source": [
        "**Pregunta 1.- Mire en la parte superior e inferior de data.tsv entregado en esta actividad. Piensa en cómo se estructuran los datos. ¿Qué crees que significa cada columna? ¿Qué crees que significa cada fila?**\n",
        "*   Respuesta 1 : Primero mencionaremos con respecto a las columnas, que son los datos que quedan registrados en la bas de datos una vez que son ingresados como se puede mostrar en los códigos de parte de abajo.\n",
        "*   Respuesta 2: Por otro lado las filas son las carácterísticas, como son el número total de datos, se podría ser que son la cantidad pedida por cada dato ingresado, obviamente los datos ingresados y trambién la descripción de ellos tendra un platillo o tabla que se demuestra exprese.\n",
        "\n",
        "\n"
      ],
      "metadata": {
        "id": "2sgQ3dIpZRBJ"
      }
    },
    {
      "cell_type": "code",
      "source": [
        "import pandas as pd\n",
        "url='https://raw.githubusercontent.com/Nikolai0Huarcaya/C8280/main/Actividad1/data.tsv'"
      ],
      "metadata": {
        "id": "Iq55IqlCh1Vt"
      },
      "execution_count": null,
      "outputs": []
    },
    {
      "cell_type": "code",
      "source": [
        "Datos = pd.read_table(url)\n",
        "Datos"
      ],
      "metadata": {
        "colab": {
          "base_uri": "https://localhost:8080/",
          "height": 424
        },
        "id": "SVKJ6tIWh3N1",
        "outputId": "c4ca7b6b-6bcf-402f-c35c-8902453ac514"
      },
      "execution_count": null,
      "outputs": [
        {
          "output_type": "execute_result",
          "data": {
            "text/plain": [
              "      order_id  quantity                              item_name  \\\n",
              "0            1         1           Chips and Fresh Tomato Salsa   \n",
              "1            1         1                                   Izze   \n",
              "2            1         1                       Nantucket Nectar   \n",
              "3            1         1  Chips and Tomatillo-Green Chili Salsa   \n",
              "4            2         2                           Chicken Bowl   \n",
              "...        ...       ...                                    ...   \n",
              "4617      1833         1                          Steak Burrito   \n",
              "4618      1833         1                          Steak Burrito   \n",
              "4619      1834         1                     Chicken Salad Bowl   \n",
              "4620      1834         1                     Chicken Salad Bowl   \n",
              "4621      1834         1                     Chicken Salad Bowl   \n",
              "\n",
              "                                     choice_description item_price  \n",
              "0                                                   NaN     $2.39   \n",
              "1                                          [Clementine]     $3.39   \n",
              "2                                               [Apple]     $3.39   \n",
              "3                                                   NaN     $2.39   \n",
              "4     [Tomatillo-Red Chili Salsa (Hot), [Black Beans...    $16.98   \n",
              "...                                                 ...        ...  \n",
              "4617  [Fresh Tomato Salsa, [Rice, Black Beans, Sour ...    $11.75   \n",
              "4618  [Fresh Tomato Salsa, [Rice, Sour Cream, Cheese...    $11.75   \n",
              "4619  [Fresh Tomato Salsa, [Fajita Vegetables, Pinto...    $11.25   \n",
              "4620  [Fresh Tomato Salsa, [Fajita Vegetables, Lettu...     $8.75   \n",
              "4621  [Fresh Tomato Salsa, [Fajita Vegetables, Pinto...     $8.75   \n",
              "\n",
              "[4622 rows x 5 columns]"
            ],
            "text/html": [
              "\n",
              "  <div id=\"df-49376171-79f2-4a55-a575-fe70e227222e\">\n",
              "    <div class=\"colab-df-container\">\n",
              "      <div>\n",
              "<style scoped>\n",
              "    .dataframe tbody tr th:only-of-type {\n",
              "        vertical-align: middle;\n",
              "    }\n",
              "\n",
              "    .dataframe tbody tr th {\n",
              "        vertical-align: top;\n",
              "    }\n",
              "\n",
              "    .dataframe thead th {\n",
              "        text-align: right;\n",
              "    }\n",
              "</style>\n",
              "<table border=\"1\" class=\"dataframe\">\n",
              "  <thead>\n",
              "    <tr style=\"text-align: right;\">\n",
              "      <th></th>\n",
              "      <th>order_id</th>\n",
              "      <th>quantity</th>\n",
              "      <th>item_name</th>\n",
              "      <th>choice_description</th>\n",
              "      <th>item_price</th>\n",
              "    </tr>\n",
              "  </thead>\n",
              "  <tbody>\n",
              "    <tr>\n",
              "      <th>0</th>\n",
              "      <td>1</td>\n",
              "      <td>1</td>\n",
              "      <td>Chips and Fresh Tomato Salsa</td>\n",
              "      <td>NaN</td>\n",
              "      <td>$2.39</td>\n",
              "    </tr>\n",
              "    <tr>\n",
              "      <th>1</th>\n",
              "      <td>1</td>\n",
              "      <td>1</td>\n",
              "      <td>Izze</td>\n",
              "      <td>[Clementine]</td>\n",
              "      <td>$3.39</td>\n",
              "    </tr>\n",
              "    <tr>\n",
              "      <th>2</th>\n",
              "      <td>1</td>\n",
              "      <td>1</td>\n",
              "      <td>Nantucket Nectar</td>\n",
              "      <td>[Apple]</td>\n",
              "      <td>$3.39</td>\n",
              "    </tr>\n",
              "    <tr>\n",
              "      <th>3</th>\n",
              "      <td>1</td>\n",
              "      <td>1</td>\n",
              "      <td>Chips and Tomatillo-Green Chili Salsa</td>\n",
              "      <td>NaN</td>\n",
              "      <td>$2.39</td>\n",
              "    </tr>\n",
              "    <tr>\n",
              "      <th>4</th>\n",
              "      <td>2</td>\n",
              "      <td>2</td>\n",
              "      <td>Chicken Bowl</td>\n",
              "      <td>[Tomatillo-Red Chili Salsa (Hot), [Black Beans...</td>\n",
              "      <td>$16.98</td>\n",
              "    </tr>\n",
              "    <tr>\n",
              "      <th>...</th>\n",
              "      <td>...</td>\n",
              "      <td>...</td>\n",
              "      <td>...</td>\n",
              "      <td>...</td>\n",
              "      <td>...</td>\n",
              "    </tr>\n",
              "    <tr>\n",
              "      <th>4617</th>\n",
              "      <td>1833</td>\n",
              "      <td>1</td>\n",
              "      <td>Steak Burrito</td>\n",
              "      <td>[Fresh Tomato Salsa, [Rice, Black Beans, Sour ...</td>\n",
              "      <td>$11.75</td>\n",
              "    </tr>\n",
              "    <tr>\n",
              "      <th>4618</th>\n",
              "      <td>1833</td>\n",
              "      <td>1</td>\n",
              "      <td>Steak Burrito</td>\n",
              "      <td>[Fresh Tomato Salsa, [Rice, Sour Cream, Cheese...</td>\n",
              "      <td>$11.75</td>\n",
              "    </tr>\n",
              "    <tr>\n",
              "      <th>4619</th>\n",
              "      <td>1834</td>\n",
              "      <td>1</td>\n",
              "      <td>Chicken Salad Bowl</td>\n",
              "      <td>[Fresh Tomato Salsa, [Fajita Vegetables, Pinto...</td>\n",
              "      <td>$11.25</td>\n",
              "    </tr>\n",
              "    <tr>\n",
              "      <th>4620</th>\n",
              "      <td>1834</td>\n",
              "      <td>1</td>\n",
              "      <td>Chicken Salad Bowl</td>\n",
              "      <td>[Fresh Tomato Salsa, [Fajita Vegetables, Lettu...</td>\n",
              "      <td>$8.75</td>\n",
              "    </tr>\n",
              "    <tr>\n",
              "      <th>4621</th>\n",
              "      <td>1834</td>\n",
              "      <td>1</td>\n",
              "      <td>Chicken Salad Bowl</td>\n",
              "      <td>[Fresh Tomato Salsa, [Fajita Vegetables, Pinto...</td>\n",
              "      <td>$8.75</td>\n",
              "    </tr>\n",
              "  </tbody>\n",
              "</table>\n",
              "<p>4622 rows × 5 columns</p>\n",
              "</div>\n",
              "      <button class=\"colab-df-convert\" onclick=\"convertToInteractive('df-49376171-79f2-4a55-a575-fe70e227222e')\"\n",
              "              title=\"Convert this dataframe to an interactive table.\"\n",
              "              style=\"display:none;\">\n",
              "        \n",
              "  <svg xmlns=\"http://www.w3.org/2000/svg\" height=\"24px\"viewBox=\"0 0 24 24\"\n",
              "       width=\"24px\">\n",
              "    <path d=\"M0 0h24v24H0V0z\" fill=\"none\"/>\n",
              "    <path d=\"M18.56 5.44l.94 2.06.94-2.06 2.06-.94-2.06-.94-.94-2.06-.94 2.06-2.06.94zm-11 1L8.5 8.5l.94-2.06 2.06-.94-2.06-.94L8.5 2.5l-.94 2.06-2.06.94zm10 10l.94 2.06.94-2.06 2.06-.94-2.06-.94-.94-2.06-.94 2.06-2.06.94z\"/><path d=\"M17.41 7.96l-1.37-1.37c-.4-.4-.92-.59-1.43-.59-.52 0-1.04.2-1.43.59L10.3 9.45l-7.72 7.72c-.78.78-.78 2.05 0 2.83L4 21.41c.39.39.9.59 1.41.59.51 0 1.02-.2 1.41-.59l7.78-7.78 2.81-2.81c.8-.78.8-2.07 0-2.86zM5.41 20L4 18.59l7.72-7.72 1.47 1.35L5.41 20z\"/>\n",
              "  </svg>\n",
              "      </button>\n",
              "      \n",
              "  <style>\n",
              "    .colab-df-container {\n",
              "      display:flex;\n",
              "      flex-wrap:wrap;\n",
              "      gap: 12px;\n",
              "    }\n",
              "\n",
              "    .colab-df-convert {\n",
              "      background-color: #E8F0FE;\n",
              "      border: none;\n",
              "      border-radius: 50%;\n",
              "      cursor: pointer;\n",
              "      display: none;\n",
              "      fill: #1967D2;\n",
              "      height: 32px;\n",
              "      padding: 0 0 0 0;\n",
              "      width: 32px;\n",
              "    }\n",
              "\n",
              "    .colab-df-convert:hover {\n",
              "      background-color: #E2EBFA;\n",
              "      box-shadow: 0px 1px 2px rgba(60, 64, 67, 0.3), 0px 1px 3px 1px rgba(60, 64, 67, 0.15);\n",
              "      fill: #174EA6;\n",
              "    }\n",
              "\n",
              "    [theme=dark] .colab-df-convert {\n",
              "      background-color: #3B4455;\n",
              "      fill: #D2E3FC;\n",
              "    }\n",
              "\n",
              "    [theme=dark] .colab-df-convert:hover {\n",
              "      background-color: #434B5C;\n",
              "      box-shadow: 0px 1px 3px 1px rgba(0, 0, 0, 0.15);\n",
              "      filter: drop-shadow(0px 1px 2px rgba(0, 0, 0, 0.3));\n",
              "      fill: #FFFFFF;\n",
              "    }\n",
              "  </style>\n",
              "\n",
              "      <script>\n",
              "        const buttonEl =\n",
              "          document.querySelector('#df-49376171-79f2-4a55-a575-fe70e227222e button.colab-df-convert');\n",
              "        buttonEl.style.display =\n",
              "          google.colab.kernel.accessAllowed ? 'block' : 'none';\n",
              "\n",
              "        async function convertToInteractive(key) {\n",
              "          const element = document.querySelector('#df-49376171-79f2-4a55-a575-fe70e227222e');\n",
              "          const dataTable =\n",
              "            await google.colab.kernel.invokeFunction('convertToInteractive',\n",
              "                                                     [key], {});\n",
              "          if (!dataTable) return;\n",
              "\n",
              "          const docLinkHtml = 'Like what you see? Visit the ' +\n",
              "            '<a target=\"_blank\" href=https://colab.research.google.com/notebooks/data_table.ipynb>data table notebook</a>'\n",
              "            + ' to learn more about interactive tables.';\n",
              "          element.innerHTML = '';\n",
              "          dataTable['output_type'] = 'display_data';\n",
              "          await google.colab.output.renderOutput(dataTable, element);\n",
              "          const docLink = document.createElement('div');\n",
              "          docLink.innerHTML = docLinkHtml;\n",
              "          element.appendChild(docLink);\n",
              "        }\n",
              "      </script>\n",
              "    </div>\n",
              "  </div>\n",
              "  "
            ]
          },
          "metadata": {},
          "execution_count": 16
        }
      ]
    },
    {
      "cell_type": "markdown",
      "source": [
        "**A continuación se mostrara cuantas columnas y filas tiene este data.tsv**"
      ],
      "metadata": {
        "id": "Je9AHSIyk3nk"
      }
    },
    {
      "cell_type": "code",
      "source": [
        "Datos.shape"
      ],
      "metadata": {
        "colab": {
          "base_uri": "https://localhost:8080/"
        },
        "id": "MmPdSbF8jMPF",
        "outputId": "7a9b7950-e18d-47d5-df4b-165a6ce83cec"
      },
      "execution_count": null,
      "outputs": [
        {
          "output_type": "execute_result",
          "data": {
            "text/plain": [
              "(4622, 5)"
            ]
          },
          "metadata": {},
          "execution_count": 3
        }
      ]
    },
    {
      "cell_type": "code",
      "source": [
        "Datos.columns"
      ],
      "metadata": {
        "colab": {
          "base_uri": "https://localhost:8080/"
        },
        "id": "YQQ5XvORotFq",
        "outputId": "623adadf-9b58-4f92-965c-080c47e485b1"
      },
      "execution_count": null,
      "outputs": [
        {
          "output_type": "execute_result",
          "data": {
            "text/plain": [
              "Index(['order_id', 'quantity', 'item_name', 'choice_description',\n",
              "       'item_price'],\n",
              "      dtype='object')"
            ]
          },
          "metadata": {},
          "execution_count": 4
        }
      ]
    },
    {
      "cell_type": "code",
      "source": [
        "columnas = Datos.columns\n",
        "columnas"
      ],
      "metadata": {
        "colab": {
          "base_uri": "https://localhost:8080/"
        },
        "id": "LRWBv-DvpsfS",
        "outputId": "4f5165d0-c5ca-4741-a8ab-4c94beced5a9"
      },
      "execution_count": null,
      "outputs": [
        {
          "output_type": "execute_result",
          "data": {
            "text/plain": [
              "Index(['order_id', 'quantity', 'item_name', 'choice_description',\n",
              "       'item_price'],\n",
              "      dtype='object')"
            ]
          },
          "metadata": {},
          "execution_count": 5
        }
      ]
    },
    {
      "cell_type": "code",
      "source": [
        "type(columnas)"
      ],
      "metadata": {
        "colab": {
          "base_uri": "https://localhost:8080/"
        },
        "id": "qiDI3CzNpnl2",
        "outputId": "34009958-63d7-4a96-8cfe-c50ef7b2e582"
      },
      "execution_count": null,
      "outputs": [
        {
          "output_type": "execute_result",
          "data": {
            "text/plain": [
              "pandas.core.indexes.base.Index"
            ]
          },
          "metadata": {},
          "execution_count": 6
        }
      ]
    },
    {
      "cell_type": "markdown",
      "source": [
        "**Aquí con este código podemos observar el indice, el número de columnas del dataset más especificado**\n"
      ],
      "metadata": {
        "id": "asD2xoEwlJwM"
      }
    },
    {
      "cell_type": "code",
      "source": [
        "Datos.info()"
      ],
      "metadata": {
        "colab": {
          "base_uri": "https://localhost:8080/"
        },
        "id": "IirOh4ujjaIV",
        "outputId": "2b001db9-2fda-497e-c279-2fa859409e47"
      },
      "execution_count": null,
      "outputs": [
        {
          "output_type": "stream",
          "name": "stdout",
          "text": [
            "<class 'pandas.core.frame.DataFrame'>\n",
            "RangeIndex: 4622 entries, 0 to 4621\n",
            "Data columns (total 5 columns):\n",
            " #   Column              Non-Null Count  Dtype \n",
            "---  ------              --------------  ----- \n",
            " 0   order_id            4622 non-null   int64 \n",
            " 1   quantity            4622 non-null   int64 \n",
            " 2   item_name           4622 non-null   object\n",
            " 3   choice_description  3376 non-null   object\n",
            " 4   item_price          4622 non-null   object\n",
            "dtypes: int64(2), object(3)\n",
            "memory usage: 180.7+ KB\n"
          ]
        }
      ]
    },
    {
      "cell_type": "markdown",
      "source": [
        "**En esta sección cambiamos el archivo tsv a csv que seguidamente se subio al directorio, pero como se puede obsevar no hay cambios que afecten a la ejecución del código**"
      ],
      "metadata": {
        "id": "7_H41UR_hqm2"
      }
    },
    {
      "cell_type": "code",
      "execution_count": null,
      "metadata": {
        "id": "JokwR6bKQ0iw"
      },
      "outputs": [],
      "source": [
        "import pandas as pd"
      ]
    },
    {
      "cell_type": "code",
      "source": [
        "url=\"https://raw.githubusercontent.com/Nikolai0Huarcaya/C8280/main/Actividad1/data.csv\""
      ],
      "metadata": {
        "id": "4bo_FqeMRNe1"
      },
      "execution_count": null,
      "outputs": []
    },
    {
      "cell_type": "code",
      "source": [
        "datos=pd.read_csv(url)\n",
        "datos"
      ],
      "metadata": {
        "colab": {
          "base_uri": "https://localhost:8080/",
          "height": 520
        },
        "id": "IcB9E4hiRQFc",
        "outputId": "84113aa2-b844-4e55-fb1e-40d159cb15ea"
      },
      "execution_count": null,
      "outputs": [
        {
          "output_type": "execute_result",
          "data": {
            "text/plain": [
              "      order_id  quantity                              item_name  \\\n",
              "0            1         1           Chips and Fresh Tomato Salsa   \n",
              "1            1         1                                   Izze   \n",
              "2            1         1                       Nantucket Nectar   \n",
              "3            1         1  Chips and Tomatillo-Green Chili Salsa   \n",
              "4            2         2                           Chicken Bowl   \n",
              "...        ...       ...                                    ...   \n",
              "4617      1833         1                          Steak Burrito   \n",
              "4618      1833         1                          Steak Burrito   \n",
              "4619      1834         1                     Chicken Salad Bowl   \n",
              "4620      1834         1                     Chicken Salad Bowl   \n",
              "4621      1834         1                     Chicken Salad Bowl   \n",
              "\n",
              "                                     choice_description item_price  \n",
              "0                                                   NaN     $2.39   \n",
              "1                                          [Clementine]     $3.39   \n",
              "2                                               [Apple]     $3.39   \n",
              "3                                                   NaN     $2.39   \n",
              "4     [Tomatillo-Red Chili Salsa (Hot), [Black Beans...    $16.98   \n",
              "...                                                 ...        ...  \n",
              "4617  [Fresh Tomato Salsa, [Rice, Black Beans, Sour ...    $11.75   \n",
              "4618  [Fresh Tomato Salsa, [Rice, Sour Cream, Cheese...    $11.75   \n",
              "4619  [Fresh Tomato Salsa, [Fajita Vegetables, Pinto...    $11.25   \n",
              "4620  [Fresh Tomato Salsa, [Fajita Vegetables, Lettu...     $8.75   \n",
              "4621  [Fresh Tomato Salsa, [Fajita Vegetables, Pinto...     $8.75   \n",
              "\n",
              "[4622 rows x 5 columns]"
            ],
            "text/html": [
              "\n",
              "  <div id=\"df-9afedb15-dd55-4443-8bc7-7bcee8f2b563\">\n",
              "    <div class=\"colab-df-container\">\n",
              "      <div>\n",
              "<style scoped>\n",
              "    .dataframe tbody tr th:only-of-type {\n",
              "        vertical-align: middle;\n",
              "    }\n",
              "\n",
              "    .dataframe tbody tr th {\n",
              "        vertical-align: top;\n",
              "    }\n",
              "\n",
              "    .dataframe thead th {\n",
              "        text-align: right;\n",
              "    }\n",
              "</style>\n",
              "<table border=\"1\" class=\"dataframe\">\n",
              "  <thead>\n",
              "    <tr style=\"text-align: right;\">\n",
              "      <th></th>\n",
              "      <th>order_id</th>\n",
              "      <th>quantity</th>\n",
              "      <th>item_name</th>\n",
              "      <th>choice_description</th>\n",
              "      <th>item_price</th>\n",
              "    </tr>\n",
              "  </thead>\n",
              "  <tbody>\n",
              "    <tr>\n",
              "      <th>0</th>\n",
              "      <td>1</td>\n",
              "      <td>1</td>\n",
              "      <td>Chips and Fresh Tomato Salsa</td>\n",
              "      <td>NaN</td>\n",
              "      <td>$2.39</td>\n",
              "    </tr>\n",
              "    <tr>\n",
              "      <th>1</th>\n",
              "      <td>1</td>\n",
              "      <td>1</td>\n",
              "      <td>Izze</td>\n",
              "      <td>[Clementine]</td>\n",
              "      <td>$3.39</td>\n",
              "    </tr>\n",
              "    <tr>\n",
              "      <th>2</th>\n",
              "      <td>1</td>\n",
              "      <td>1</td>\n",
              "      <td>Nantucket Nectar</td>\n",
              "      <td>[Apple]</td>\n",
              "      <td>$3.39</td>\n",
              "    </tr>\n",
              "    <tr>\n",
              "      <th>3</th>\n",
              "      <td>1</td>\n",
              "      <td>1</td>\n",
              "      <td>Chips and Tomatillo-Green Chili Salsa</td>\n",
              "      <td>NaN</td>\n",
              "      <td>$2.39</td>\n",
              "    </tr>\n",
              "    <tr>\n",
              "      <th>4</th>\n",
              "      <td>2</td>\n",
              "      <td>2</td>\n",
              "      <td>Chicken Bowl</td>\n",
              "      <td>[Tomatillo-Red Chili Salsa (Hot), [Black Beans...</td>\n",
              "      <td>$16.98</td>\n",
              "    </tr>\n",
              "    <tr>\n",
              "      <th>...</th>\n",
              "      <td>...</td>\n",
              "      <td>...</td>\n",
              "      <td>...</td>\n",
              "      <td>...</td>\n",
              "      <td>...</td>\n",
              "    </tr>\n",
              "    <tr>\n",
              "      <th>4617</th>\n",
              "      <td>1833</td>\n",
              "      <td>1</td>\n",
              "      <td>Steak Burrito</td>\n",
              "      <td>[Fresh Tomato Salsa, [Rice, Black Beans, Sour ...</td>\n",
              "      <td>$11.75</td>\n",
              "    </tr>\n",
              "    <tr>\n",
              "      <th>4618</th>\n",
              "      <td>1833</td>\n",
              "      <td>1</td>\n",
              "      <td>Steak Burrito</td>\n",
              "      <td>[Fresh Tomato Salsa, [Rice, Sour Cream, Cheese...</td>\n",
              "      <td>$11.75</td>\n",
              "    </tr>\n",
              "    <tr>\n",
              "      <th>4619</th>\n",
              "      <td>1834</td>\n",
              "      <td>1</td>\n",
              "      <td>Chicken Salad Bowl</td>\n",
              "      <td>[Fresh Tomato Salsa, [Fajita Vegetables, Pinto...</td>\n",
              "      <td>$11.25</td>\n",
              "    </tr>\n",
              "    <tr>\n",
              "      <th>4620</th>\n",
              "      <td>1834</td>\n",
              "      <td>1</td>\n",
              "      <td>Chicken Salad Bowl</td>\n",
              "      <td>[Fresh Tomato Salsa, [Fajita Vegetables, Lettu...</td>\n",
              "      <td>$8.75</td>\n",
              "    </tr>\n",
              "    <tr>\n",
              "      <th>4621</th>\n",
              "      <td>1834</td>\n",
              "      <td>1</td>\n",
              "      <td>Chicken Salad Bowl</td>\n",
              "      <td>[Fresh Tomato Salsa, [Fajita Vegetables, Pinto...</td>\n",
              "      <td>$8.75</td>\n",
              "    </tr>\n",
              "  </tbody>\n",
              "</table>\n",
              "<p>4622 rows × 5 columns</p>\n",
              "</div>\n",
              "      <button class=\"colab-df-convert\" onclick=\"convertToInteractive('df-9afedb15-dd55-4443-8bc7-7bcee8f2b563')\"\n",
              "              title=\"Convert this dataframe to an interactive table.\"\n",
              "              style=\"display:none;\">\n",
              "        \n",
              "  <svg xmlns=\"http://www.w3.org/2000/svg\" height=\"24px\"viewBox=\"0 0 24 24\"\n",
              "       width=\"24px\">\n",
              "    <path d=\"M0 0h24v24H0V0z\" fill=\"none\"/>\n",
              "    <path d=\"M18.56 5.44l.94 2.06.94-2.06 2.06-.94-2.06-.94-.94-2.06-.94 2.06-2.06.94zm-11 1L8.5 8.5l.94-2.06 2.06-.94-2.06-.94L8.5 2.5l-.94 2.06-2.06.94zm10 10l.94 2.06.94-2.06 2.06-.94-2.06-.94-.94-2.06-.94 2.06-2.06.94z\"/><path d=\"M17.41 7.96l-1.37-1.37c-.4-.4-.92-.59-1.43-.59-.52 0-1.04.2-1.43.59L10.3 9.45l-7.72 7.72c-.78.78-.78 2.05 0 2.83L4 21.41c.39.39.9.59 1.41.59.51 0 1.02-.2 1.41-.59l7.78-7.78 2.81-2.81c.8-.78.8-2.07 0-2.86zM5.41 20L4 18.59l7.72-7.72 1.47 1.35L5.41 20z\"/>\n",
              "  </svg>\n",
              "      </button>\n",
              "      \n",
              "  <style>\n",
              "    .colab-df-container {\n",
              "      display:flex;\n",
              "      flex-wrap:wrap;\n",
              "      gap: 12px;\n",
              "    }\n",
              "\n",
              "    .colab-df-convert {\n",
              "      background-color: #E8F0FE;\n",
              "      border: none;\n",
              "      border-radius: 50%;\n",
              "      cursor: pointer;\n",
              "      display: none;\n",
              "      fill: #1967D2;\n",
              "      height: 32px;\n",
              "      padding: 0 0 0 0;\n",
              "      width: 32px;\n",
              "    }\n",
              "\n",
              "    .colab-df-convert:hover {\n",
              "      background-color: #E2EBFA;\n",
              "      box-shadow: 0px 1px 2px rgba(60, 64, 67, 0.3), 0px 1px 3px 1px rgba(60, 64, 67, 0.15);\n",
              "      fill: #174EA6;\n",
              "    }\n",
              "\n",
              "    [theme=dark] .colab-df-convert {\n",
              "      background-color: #3B4455;\n",
              "      fill: #D2E3FC;\n",
              "    }\n",
              "\n",
              "    [theme=dark] .colab-df-convert:hover {\n",
              "      background-color: #434B5C;\n",
              "      box-shadow: 0px 1px 3px 1px rgba(0, 0, 0, 0.15);\n",
              "      filter: drop-shadow(0px 1px 2px rgba(0, 0, 0, 0.3));\n",
              "      fill: #FFFFFF;\n",
              "    }\n",
              "  </style>\n",
              "\n",
              "      <script>\n",
              "        const buttonEl =\n",
              "          document.querySelector('#df-9afedb15-dd55-4443-8bc7-7bcee8f2b563 button.colab-df-convert');\n",
              "        buttonEl.style.display =\n",
              "          google.colab.kernel.accessAllowed ? 'block' : 'none';\n",
              "\n",
              "        async function convertToInteractive(key) {\n",
              "          const element = document.querySelector('#df-9afedb15-dd55-4443-8bc7-7bcee8f2b563');\n",
              "          const dataTable =\n",
              "            await google.colab.kernel.invokeFunction('convertToInteractive',\n",
              "                                                     [key], {});\n",
              "          if (!dataTable) return;\n",
              "\n",
              "          const docLinkHtml = 'Like what you see? Visit the ' +\n",
              "            '<a target=\"_blank\" href=https://colab.research.google.com/notebooks/data_table.ipynb>data table notebook</a>'\n",
              "            + ' to learn more about interactive tables.';\n",
              "          element.innerHTML = '';\n",
              "          dataTable['output_type'] = 'display_data';\n",
              "          await google.colab.output.renderOutput(dataTable, element);\n",
              "          const docLink = document.createElement('div');\n",
              "          docLink.innerHTML = docLinkHtml;\n",
              "          element.appendChild(docLink);\n",
              "        }\n",
              "      </script>\n",
              "    </div>\n",
              "  </div>\n",
              "  "
            ]
          },
          "metadata": {},
          "execution_count": 54
        }
      ]
    },
    {
      "cell_type": "markdown",
      "source": [
        "**2.- ¿Cuántos pedidos parece haber?**\n",
        "\n",
        "\n"
      ],
      "metadata": {
        "id": "YAzUgo41oZNc"
      }
    },
    {
      "cell_type": "code",
      "source": [
        "pedidos = Datos[\"quantity\"].sum()\n",
        "print(\"pedidos:\" , pedidos)"
      ],
      "metadata": {
        "colab": {
          "base_uri": "https://localhost:8080/"
        },
        "id": "L5Id61Fr064O",
        "outputId": "3f82e33f-bff3-422d-fba3-2c7ae74430b8"
      },
      "execution_count": null,
      "outputs": [
        {
          "output_type": "stream",
          "name": "stdout",
          "text": [
            "pedidos: 4972\n"
          ]
        }
      ]
    },
    {
      "cell_type": "markdown",
      "source": [
        "Cómo podemos ver hay 4972 pedidos realizados en el data.\n"
      ],
      "metadata": {
        "id": "v-VeL18m76YT"
      }
    },
    {
      "cell_type": "markdown",
      "source": [
        "**3.-¿Cuántas líneas hay en este archivo?**\n",
        "\n"
      ],
      "metadata": {
        "id": "yqUVqtHz60Ct"
      }
    },
    {
      "cell_type": "code",
      "source": [
        "len(Datos)"
      ],
      "metadata": {
        "colab": {
          "base_uri": "https://localhost:8080/"
        },
        "id": "nqq1p9-A7X7r",
        "outputId": "6c60b92f-f9c3-4532-ef01-f8cd8127196f"
      },
      "execution_count": null,
      "outputs": [
        {
          "output_type": "execute_result",
          "data": {
            "text/plain": [
              "4622"
            ]
          },
          "metadata": {},
          "execution_count": 9
        }
      ]
    },
    {
      "cell_type": "markdown",
      "source": [
        "Con el código podemos saber que en el archivo se encuentran 4622 líneas."
      ],
      "metadata": {
        "id": "1qGTmJ3S78pD"
      }
    },
    {
      "cell_type": "markdown",
      "source": [
        "**4.-¿Qué burrito es más popular, steak o chicken?**"
      ],
      "metadata": {
        "id": "O1EbJNDg70gL"
      }
    },
    {
      "cell_type": "markdown",
      "source": [
        "**Primero hacemos un código para steak para comparlo después con chicken**\n",
        "\n",
        "\n",
        "\n",
        "\n"
      ],
      "metadata": {
        "id": "bxbravLFlpfT"
      }
    },
    {
      "cell_type": "code",
      "source": [
        "#Steak\n",
        "burrito_counts = Datos[\"item_name\"].value_counts()\n",
        "steak_burrito = burrito_counts.get(\"Steak Burrito\", 0)\n",
        "print(\"Steak Burrito:\", steak_burrito)"
      ],
      "metadata": {
        "colab": {
          "base_uri": "https://localhost:8080/"
        },
        "id": "rAPe0sIqkxaD",
        "outputId": "2142a780-f658-425c-db21-3c920244d3a1"
      },
      "execution_count": null,
      "outputs": [
        {
          "output_type": "stream",
          "name": "stdout",
          "text": [
            "Steak Burrito: 368\n"
          ]
        }
      ]
    },
    {
      "cell_type": "code",
      "source": [
        "#Chicken\n",
        "burrito_counts = Datos[\"item_name\"].value_counts()\n",
        "Chicken_burrito = burrito_counts.get(\"Chicken Burrito\", 0)\n",
        "print(\"Chicken Burrito:\", Chicken_burrito)"
      ],
      "metadata": {
        "colab": {
          "base_uri": "https://localhost:8080/"
        },
        "id": "Reh6guzilmAK",
        "outputId": "f43f4995-2064-4834-d45d-a1581353ece6"
      },
      "execution_count": null,
      "outputs": [
        {
          "output_type": "stream",
          "name": "stdout",
          "text": [
            "Chicken Burrito: 553\n"
          ]
        }
      ]
    },
    {
      "cell_type": "markdown",
      "source": [
        "Con los códigos que pusimos anteriormente y con la salida de cada uno, se afirma que **el burrito más popular es chicken con 553**."
      ],
      "metadata": {
        "id": "vQmyCCUomGzT"
      }
    },
    {
      "cell_type": "markdown",
      "source": [
        "**5.-¿Los burritos de pollo suelen tener frijoles negros o frijoles pintos?**"
      ],
      "metadata": {
        "id": "mk73w19pmyi9"
      }
    },
    {
      "cell_type": "code",
      "source": [
        "burritos_pollo = Datos.query(\"item_name == 'Chicken Burrito'\")\n"
      ],
      "metadata": {
        "id": "2mwcP8RLn7W-"
      },
      "execution_count": null,
      "outputs": []
    },
    {
      "cell_type": "code",
      "source": [
        "frijoles_negros = burritos_pollo[\"choice_description\"].str.contains(\"Black Beans\", case=False).sum()\n",
        "frijoles_pintos = burritos_pollo[\"choice_description\"].str.contains(\"Pinto Beans\", case=False).sum()"
      ],
      "metadata": {
        "id": "WMPBGcO-7nit"
      },
      "execution_count": null,
      "outputs": []
    },
    {
      "cell_type": "code",
      "source": [
        "print(\"El número total de burritos de pollo con frijoles negros es: {}\".format(frijoles_negros))\n",
        "print(\"El número total de burritos de pollo con frijoles pintos es: {}\".format(frijoles_pintos))"
      ],
      "metadata": {
        "colab": {
          "base_uri": "https://localhost:8080/"
        },
        "id": "_kScv1Hd7_8V",
        "outputId": "f55e0a92-f772-4ca3-9eaa-a13f8ba0c270"
      },
      "execution_count": null,
      "outputs": [
        {
          "output_type": "stream",
          "name": "stdout",
          "text": [
            "El número total de burritos de pollo con frijoles negros es: 282\n",
            "El número total de burritos de pollo con frijoles pintos es: 105\n"
          ]
        }
      ]
    },
    {
      "cell_type": "markdown",
      "source": [
        "Con esto podemos decir que los burritos de pollo con frijoles negros suelen tener 282 y los burritos de pollo con frijoles pintos suelen a tener 105"
      ],
      "metadata": {
        "id": "jAAaLXqi8IpH"
      }
    },
    {
      "cell_type": "markdown",
      "source": [
        "**6.-Usa la línea de comandos para descubrir algo interesante sobre los datos dados.**"
      ],
      "metadata": {
        "id": "QaaITbLY9D1g"
      }
    },
    {
      "cell_type": "code",
      "source": [
        "item_price_column = Datos['item_price']\n",
        "item_price_column"
      ],
      "metadata": {
        "colab": {
          "base_uri": "https://localhost:8080/"
        },
        "id": "5rktuY6x9hJP",
        "outputId": "2559d6ec-d6d4-4284-d810-068cdd3f427a"
      },
      "execution_count": null,
      "outputs": [
        {
          "output_type": "execute_result",
          "data": {
            "text/plain": [
              "0        $2.39 \n",
              "1        $3.39 \n",
              "2        $3.39 \n",
              "3        $2.39 \n",
              "4       $16.98 \n",
              "         ...   \n",
              "4617    $11.75 \n",
              "4618    $11.75 \n",
              "4619    $11.25 \n",
              "4620     $8.75 \n",
              "4621     $8.75 \n",
              "Name: item_price, Length: 4622, dtype: object"
            ]
          },
          "metadata": {},
          "execution_count": 18
        }
      ]
    },
    {
      "cell_type": "markdown",
      "source": [
        "En esta ocasión usamos un comando para que solo nos de la columna de item_price"
      ],
      "metadata": {
        "id": "Nacvline94r3"
      }
    }
  ]
}