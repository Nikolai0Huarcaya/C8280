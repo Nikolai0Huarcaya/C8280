{
  "cells": [
    {
      "cell_type": "markdown",
      "metadata": {
        "id": "view-in-github",
        "colab_type": "text"
      },
      "source": [
        "<a href=\"https://colab.research.google.com/github/Nikolai0Huarcaya/C8280/blob/main/Numpy.ipynb\" target=\"_parent\"><img src=\"https://colab.research.google.com/assets/colab-badge.svg\" alt=\"Open In Colab\"/></a>"
      ]
    },
    {
      "cell_type": "markdown",
      "source": [
        "# **VICTOR NIKOLAI HUARCAYA PUMACAYO**"
      ],
      "metadata": {
        "id": "CQczwUNuOaJR"
      }
    },
    {
      "cell_type": "markdown",
      "metadata": {
        "id": "g5p1zhVdHRJH"
      },
      "source": [
        "## Numpy\n",
        "\n",
        "NumPy es la librería central para computación científica en Python. Proporciona un objeto de matriz multidimensional de alto rendimiento y herramientas para trabajar con estas matrices.\n",
        "\n",
        "#### Matrices\n",
        "\n",
        "Una matriz NumPy es una colección de valores de tipos de datos similares y está indexada por una tupla de números no negativos. El rango de la matriz es el número de dimensiones, y la forma de una matriz es una tupla de números que dan el tamaño de la matriz a lo largo de cada dimensión.\n"
      ]
    },
    {
      "cell_type": "code",
      "execution_count": 5,
      "metadata": {
        "id": "fEYOnETfqaMK",
        "colab": {
          "base_uri": "https://localhost:8080/"
        },
        "outputId": "9ea6cb88-af59-4ffe-b9ba-80e8b643c04f"
      },
      "outputs": [
        {
          "output_type": "stream",
          "name": "stdout",
          "text": [
            "0.0003705024719238281 0.0013015270233154297\n",
            "En este ejemplo Numpy es de 0.28466752152408864 por lo cual !es el más veloz!\n"
          ]
        }
      ],
      "source": [
        "# Ejemplo\n",
        "from __future__ import division\n",
        "import time\n",
        "import numpy as np\n",
        "\n",
        "\n",
        "tam_vec = 1000\n",
        "def lista_python():\n",
        "    t1 = time.time()\n",
        "    X = range(tam_vec)\n",
        "    Y = range(tam_vec)\n",
        "    Z = []\n",
        "    for i in range(len(X)):\n",
        "        Z.append(X[i] + Y[i])\n",
        "    return time.time() - t1\n",
        "\n",
        "def matriz_numpy():\n",
        "    t1 = time.time()\n",
        "    X = np.arange(tam_vec)\n",
        "    Y = np.arange(tam_vec)\n",
        "    Z = X + Y\n",
        "    return time.time() - t1\n",
        "\n",
        "# Completar\n",
        "\n",
        "t1 = lista_python()  #  lista_python()\n",
        "t2 = matriz_numpy()  #  matriz_numpy()\n",
        "\n",
        "print(t1, t2)\n",
        "print(\"En este ejemplo Numpy es de \" + str(t1 / t2) + \" por lo cual !es el más veloz!\")\n"
      ]
    },
    {
      "cell_type": "code",
      "execution_count": null,
      "metadata": {
        "id": "OufDp2ReqaMM"
      },
      "outputs": [],
      "source": [
        "#import numpy\n",
        "#numpy.__version__"
      ]
    },
    {
      "cell_type": "markdown",
      "metadata": {
        "id": "BhyocdoIqaMM"
      },
      "source": [
        "Podemos inicializar matrices NumPy a partir de listas de Python anidadas y acceder a los elementos mediante corchetes."
      ]
    },
    {
      "cell_type": "code",
      "execution_count": 6,
      "metadata": {
        "id": "oV13ZLdhqaMN",
        "colab": {
          "base_uri": "https://localhost:8080/"
        },
        "outputId": "72f65b6a-d280-4c2b-903b-01b035cf9f41"
      },
      "outputs": [
        {
          "output_type": "stream",
          "name": "stdout",
          "text": [
            "<class 'numpy.ndarray'>\n",
            "(3,)\n",
            "0\n",
            "1\n",
            "2\n",
            "[5 1 2]\n"
          ]
        }
      ],
      "source": [
        "import numpy as np\n",
        "\n",
        "# Creamos una matriz de rango 1\n",
        "a = np.array([0, 1, 2])\n",
        "print (type(a))\n",
        "\n",
        "# Imprimimos la dimension de la matriz\n",
        "print (a.shape)\n",
        "print (a[0])\n",
        "print (a[1])\n",
        "print (a[2])\n",
        "\n",
        "# Cambiamos un elemento de un array\n",
        "a[0] = 5\n",
        "print (a)"
      ]
    },
    {
      "cell_type": "code",
      "execution_count": 7,
      "metadata": {
        "id": "AM3wLIGFqaMN",
        "colab": {
          "base_uri": "https://localhost:8080/"
        },
        "outputId": "50e57e0f-4eb8-45be-b7f2-d34470ce0345"
      },
      "outputs": [
        {
          "output_type": "stream",
          "name": "stdout",
          "text": [
            "(2, 3)\n",
            "[[0 1 2]\n",
            " [3 4 5]]\n",
            "0 1 3\n"
          ]
        }
      ],
      "source": [
        "# Creamos una matriz de rango 2\n",
        "b = np.array([[0,1,2],[3,4,5]])\n",
        "print (b.shape)\n",
        "print (b)\n",
        "print (b[0, 0], b[0, 1], b[1, 0])"
      ]
    },
    {
      "cell_type": "code",
      "execution_count": 8,
      "metadata": {
        "id": "cq2gOFB4qaMO",
        "colab": {
          "base_uri": "https://localhost:8080/"
        },
        "outputId": "8a0546e2-e5d8-4efd-ecd0-155df6ad548a"
      },
      "outputs": [
        {
          "output_type": "stream",
          "name": "stdout",
          "text": [
            "(2, 3)\n",
            "0 1 3\n"
          ]
        }
      ],
      "source": [
        "print ( b.shape)\n",
        "print ( b[0, 0], b[0, 1], b[1, 0])"
      ]
    },
    {
      "cell_type": "markdown",
      "metadata": {
        "id": "pNtk4_8UqaMO"
      },
      "source": [
        "### Creación de una matriz NumPy\n",
        "\n",
        "NumPy también proporciona muchas funciones integradas para crear matrices. La mejor manera de aprender esto es a través de ejemplos, así que pasemos al código."
      ]
    },
    {
      "cell_type": "code",
      "execution_count": 9,
      "metadata": {
        "id": "NyYKtrrGqaMP",
        "colab": {
          "base_uri": "https://localhost:8080/"
        },
        "outputId": "0775dff5-2c77-4bac-c337-81351a50682f"
      },
      "outputs": [
        {
          "output_type": "stream",
          "name": "stdout",
          "text": [
            "[[0. 0. 0.]\n",
            " [0. 0. 0.]\n",
            " [0. 0. 0.]]\n"
          ]
        }
      ],
      "source": [
        "# Creamos una matriz 3x3 de todos ceros\n",
        "a = np.zeros((3,3))\n",
        "print (a)"
      ]
    },
    {
      "cell_type": "code",
      "execution_count": 10,
      "metadata": {
        "id": "mCLST8l6qaMQ",
        "colab": {
          "base_uri": "https://localhost:8080/"
        },
        "outputId": "c260dc68-8674-4d3e-a782-e6ad6e7435be"
      },
      "outputs": [
        {
          "output_type": "stream",
          "name": "stdout",
          "text": [
            "[[1. 1.]\n",
            " [1. 1.]]\n"
          ]
        }
      ],
      "source": [
        "# Creamos una matriz 2x2 de todos 1\n",
        "b = np.ones((2,2))\n",
        "print (b)"
      ]
    },
    {
      "cell_type": "code",
      "execution_count": 11,
      "metadata": {
        "id": "6CJQKnPbqaMQ",
        "colab": {
          "base_uri": "https://localhost:8080/"
        },
        "outputId": "3fb88200-18bd-49bf-de70-d73e4c407e8b"
      },
      "outputs": [
        {
          "output_type": "stream",
          "name": "stdout",
          "text": [
            "[[7 7 7]\n",
            " [7 7 7]\n",
            " [7 7 7]]\n"
          ]
        }
      ],
      "source": [
        "# Creamos una matriz 3x3 constantes\n",
        "c = np.full((3,3), 7)\n",
        "print(c)"
      ]
    },
    {
      "cell_type": "code",
      "execution_count": 12,
      "metadata": {
        "id": "6WrXOZLfqaMR",
        "colab": {
          "base_uri": "https://localhost:8080/"
        },
        "outputId": "d3a5475a-8971-4246-9e2d-d6d331fa51f8"
      },
      "outputs": [
        {
          "output_type": "stream",
          "name": "stdout",
          "text": [
            "[[0.43179812 0.24826239 0.33527089]\n",
            " [0.43322107 0.34338487 0.94199277]\n",
            " [0.9369157  0.85131297 0.32212793]]\n"
          ]
        }
      ],
      "source": [
        "# Creamos una matriz 3x3 con valores aleatorios\n",
        "d = np.random.random((3,3))\n",
        "print (d)"
      ]
    },
    {
      "cell_type": "code",
      "execution_count": 13,
      "metadata": {
        "id": "2Fh7ah1dqaMR",
        "colab": {
          "base_uri": "https://localhost:8080/"
        },
        "outputId": "3df5d9a2-5c27-4c32-dbb7-190db77ccf7a"
      },
      "outputs": [
        {
          "output_type": "stream",
          "name": "stdout",
          "text": [
            "[[1. 0. 0.]\n",
            " [0. 1. 0.]\n",
            " [0. 0. 1.]]\n"
          ]
        }
      ],
      "source": [
        "# Creamos una matriz identidad 3x3\n",
        "e = np.eye(3)\n",
        "print(e)"
      ]
    },
    {
      "cell_type": "code",
      "execution_count": 14,
      "metadata": {
        "id": "3Z4n3uJbqaMR",
        "colab": {
          "base_uri": "https://localhost:8080/"
        },
        "outputId": "f97ae115-d058-45a1-e087-18bc4c27666c"
      },
      "outputs": [
        {
          "output_type": "stream",
          "name": "stdout",
          "text": [
            "[2 3 1 0]\n"
          ]
        }
      ],
      "source": [
        "# Convertir una lista en una matriz\n",
        "f = np.array([2, 3, 1,0])\n",
        "print(f)"
      ]
    },
    {
      "cell_type": "code",
      "execution_count": 19,
      "metadata": {
        "id": "tET5xDZ6qaMR",
        "colab": {
          "base_uri": "https://localhost:8080/"
        },
        "outputId": "1578c27a-822e-45b3-b90f-e26b7d6da150"
      },
      "outputs": [
        {
          "output_type": "stream",
          "name": "stdout",
          "text": [
            "[ 1  2  3  4  5  6  7  8  9 10 11 12 13 14]\n"
          ]
        }
      ],
      "source": [
        "# arange() crea matrices con valores que se incrementan regularmente\n",
        "# Completar\n",
        "import numpy as np\n",
        "\n",
        "matriz = np.arange(1, 15)\n",
        "print(matriz)\n"
      ]
    },
    {
      "cell_type": "code",
      "execution_count": 20,
      "metadata": {
        "id": "RuGyOhkKqaMS",
        "colab": {
          "base_uri": "https://localhost:8080/"
        },
        "outputId": "7637c135-3701-4daa-b8ab-232d749aff61"
      },
      "outputs": [
        {
          "output_type": "stream",
          "name": "stdout",
          "text": [
            "[1, 2, 3, 4, 5, 6]\n"
          ]
        }
      ],
      "source": [
        "# Mezcla de tupla y listas\n",
        "# Completar\n",
        "import numpy as np\n",
        "tupla = (1, 2, 3)\n",
        "lista = [4, 5, 6]\n",
        "mezcla = list(tupla) + lista\n",
        "print(mezcla)\n"
      ]
    },
    {
      "cell_type": "code",
      "execution_count": 17,
      "metadata": {
        "id": "Qqm5sInQqaMS",
        "colab": {
          "base_uri": "https://localhost:8080/"
        },
        "outputId": "aab23b59-0a79-47e3-a1e1-c15229384dc1"
      },
      "outputs": [
        {
          "output_type": "stream",
          "name": "stdout",
          "text": [
            "[1. 2. 3. 4. 5. 6. 7.]\n"
          ]
        }
      ],
      "source": [
        "# Crear una matriz de rango con tipo de datos flotante\n",
        "i = np.arange(1, 8, dtype=np.float64)\n",
        "print(i)"
      ]
    },
    {
      "cell_type": "markdown",
      "metadata": {
        "id": "Ee1Sko4QqaMS"
      },
      "source": [
        "texto en negrita`linspace()`  crea matrices con un numero especifico de elementos que están espaciados por igual entre los valores inicial y final especificados"
      ]
    },
    {
      "cell_type": "code",
      "execution_count": 22,
      "metadata": {
        "id": "nHza6HfaqaMT",
        "colab": {
          "base_uri": "https://localhost:8080/"
        },
        "outputId": "0459674f-0599-4380-ee54-7ae103c325df"
      },
      "outputs": [
        {
          "output_type": "stream",
          "name": "stdout",
          "text": [
            "[0.   0.25 0.5  0.75 1.  ]\n",
            "[-1.  -0.5  0.   0.5  1. ]\n"
          ]
        }
      ],
      "source": [
        "# Completa\n",
        "import numpy as np\n",
        "\n",
        "# Crear una matriz con 5 elementos espaciados entre 0 y 1\n",
        "arr = np.linspace(0, 1, 5)\n",
        "print(arr)  # Salida: [0.   0.25 0.5  0.75 1.  ]\n",
        "\n",
        "# Crear una matriz con 5 elementos espaciados entre -1 y 1\n",
        "arr = np.linspace(-1, 1, 5)\n",
        "print(arr)"
      ]
    },
    {
      "cell_type": "markdown",
      "metadata": {
        "id": "FhxDR-cfqaMT"
      },
      "source": [
        "### Tipos de datos\n",
        "Una matriz es una colección de elementos del mismo tipo de datos y NumPy admite y proporciona funciones integradas para construir matrices con argumentos opcionales para especificar explícitamente los tipos de datos requeridos."
      ]
    },
    {
      "cell_type": "code",
      "execution_count": 23,
      "metadata": {
        "id": "Um_OqxjPqaMT",
        "colab": {
          "base_uri": "https://localhost:8080/"
        },
        "outputId": "a21ecb74-362a-4f8b-fccb-11c1a7f0de72"
      },
      "outputs": [
        {
          "output_type": "stream",
          "name": "stdout",
          "text": [
            "int64 float64 int64\n"
          ]
        }
      ],
      "source": [
        "# Numpy escoge el tipo de datos\n",
        "x = np.array([0, 1])\n",
        "y = np.array([2.0, 3.0])\n",
        "\n",
        "# Fuerza un tipo de datos en particular\n",
        "z = np.array([5, 6], dtype=np.int64)\n",
        "print (x.dtype, y.dtype, z.dtype)"
      ]
    },
    {
      "cell_type": "markdown",
      "metadata": {
        "id": "-lRfXcA7qaMT"
      },
      "source": [
        "**Ejercicio** Completa el siguiente  código."
      ]
    },
    {
      "cell_type": "code",
      "execution_count": 40,
      "metadata": {
        "id": "5ZJRGP7BqaMT",
        "colab": {
          "base_uri": "https://localhost:8080/"
        },
        "outputId": "28410411-c50c-45ee-ae78-ea5453833c66"
      },
      "outputs": [
        {
          "output_type": "stream",
          "name": "stdout",
          "text": [
            "Imprimiendo valores para x1:\n",
            "Dimensión: 1\n",
            "Forma: (6,)\n",
            "Tamaño: 6\n",
            "Tipo de datos: int64\n",
            "Tamaño de elemento: 8\n",
            "Bytes totales: 48\n",
            "\n",
            "\n",
            "Imprimiendo valores para x2:\n",
            "Dimensión: 2\n",
            "Forma: (5, 4)\n",
            "Tamaño: 20\n",
            "Tipo de datos: int64\n",
            "Tamaño de elemento: 8\n",
            "Bytes totales:  160\n",
            "\n",
            "\n",
            "Imprimiendo valores para x3 :  \n",
            "Dimensión: 3\n",
            "Forma: (2, 4, 5)\n",
            "Tamaño: 40\n",
            "Tipo de datos: int64\n",
            "Tamaño de elemento: 8\n",
            "Bytes totales: 320\n"
          ]
        }
      ],
      "source": [
        "#np.random.seed(0)\n",
        "\n",
        "#x1 = np.random.randint(10, size=6)  # matriz 1-d\n",
        "#x2 = np.random.randint(10, size=(5, 4))  # matriz-2d\n",
        "#x3 = np.random.randint(10, size=(2, 4, 5)) # matriz-3d\n",
        "\n",
        "# Imprime los atributos : dim, shape, size, dtype, itemsize y nbytes\n",
        "\n",
        "# Completar\n",
        "#completando y dando valor para un mejor entendimiento\n",
        "x1 = np.random.randint(10, size=6)  # matriz 1-d\n",
        "\n",
        "\n",
        "# Primero para  x1\n",
        "print(\"Imprimiendo valores para x1:\")\n",
        "print(\"Dimensión:\", x1.ndim)\n",
        "print(\"Forma:\", x1.shape)\n",
        "print(\"Tamaño:\", x1.size)\n",
        "print(\"Tipo de datos:\", x1.dtype)\n",
        "print(\"Tamaño de elemento:\", x1.itemsize)\n",
        "print(\"Bytes totales:\", x1.nbytes)\n",
        "print(\"\\n\")\n",
        "# Segundo para  x2\n",
        "print(\"Imprimiendo valores para x2:\")\n",
        "print(\"Dimensión:\", x2.ndim)\n",
        "print(\"Forma:\", x2.shape)\n",
        "print(\"Tamaño:\", x2.size)\n",
        "print(\"Tipo de datos:\", x2.dtype)\n",
        "print(\"Tamaño de elemento:\", x2.itemsize)\n",
        "print(\"Bytes totales: \", x2.nbytes)\n",
        "print(\"\\n\")\n",
        "# Tercero para  x3\n",
        "print(\"Imprimiendo valores para x3 :  \")\n",
        "print(\"Dimensión:\", x3.ndim)\n",
        "print(\"Forma:\", x3.shape)\n",
        "print(\"Tamaño:\", x3.size)\n",
        "print(\"Tipo de datos:\", x3.dtype)\n",
        "print(\"Tamaño de elemento:\", x3.itemsize)\n",
        "print(\"Bytes totales:\", x3.nbytes)"
      ]
    },
    {
      "cell_type": "markdown",
      "metadata": {
        "id": "hHdZuIRlqaMU"
      },
      "source": [
        "### Indexación de matrices\n",
        "\n",
        "NumPy ofrece varias formas de indexar en matrices. La sintaxis estándar de Python `x[obj]` se puede usar para indexar la matriz NumPy, donde `x` es la matriz y `obj` es la selección.\n",
        "\n",
        "Hay tres tipos de indexación disponibles:\n",
        "\n",
        "* Acceso al campo\n",
        "\n",
        "* Recorte básico\n",
        "\n",
        "* Indexación avanzada\n",
        "\n",
        "#### Acceso al campo\n",
        "\n",
        "Si el objeto ndarray es una matriz estructurada, se puede acceder a los campos de la matriz indexando la matriz con cadenas, como un diccionario. La indexación de `x['field-name']` devuelve una nueva vista de la matriz, que tiene la misma dimensión que `x`, excepto cuando el campo es una submatriz  que contiene sólo la parte de los datos en el campo especificado. Los tipos de datos se obtienen con `x.dtype['field-name']`."
      ]
    },
    {
      "cell_type": "code",
      "execution_count": 41,
      "metadata": {
        "id": "OPuRiaI0qaMU",
        "colab": {
          "base_uri": "https://localhost:8080/"
        },
        "outputId": "a7c2a714-70cc-4f1e-ee25-baa2495569c1"
      },
      "outputs": [
        {
          "output_type": "stream",
          "name": "stdout",
          "text": [
            "[[(0, [[0., 0., 0.], [0., 0., 0.], [0., 0., 0.]])\n",
            "  (0, [[0., 0., 0.], [0., 0., 0.], [0., 0., 0.]])\n",
            "  (0, [[0., 0., 0.], [0., 0., 0.], [0., 0., 0.]])]\n",
            " [(0, [[0., 0., 0.], [0., 0., 0.], [0., 0., 0.]])\n",
            "  (0, [[0., 0., 0.], [0., 0., 0.], [0., 0., 0.]])\n",
            "  (0, [[0., 0., 0.], [0., 0., 0.], [0., 0., 0.]])]\n",
            " [(0, [[0., 0., 0.], [0., 0., 0.], [0., 0., 0.]])\n",
            "  (0, [[0., 0., 0.], [0., 0., 0.], [0., 0., 0.]])\n",
            "  (0, [[0., 0., 0.], [0., 0., 0.], [0., 0., 0.]])]]\n"
          ]
        }
      ],
      "source": [
        "x = np.zeros((3,3), dtype=[('a', np.int32), ('b', np.float64, (3,3))])\n",
        "print(x)"
      ]
    },
    {
      "cell_type": "code",
      "execution_count": 42,
      "metadata": {
        "id": "qn7yP1DDqaMU",
        "colab": {
          "base_uri": "https://localhost:8080/"
        },
        "outputId": "c965ca21-6669-464e-a48e-525c246b363a"
      },
      "outputs": [
        {
          "output_type": "stream",
          "name": "stdout",
          "text": [
            "x['a'].shape:  (3, 3)\n",
            "x['a'].dtype:  int32\n",
            "x['b'].shape:  (3, 3, 3, 3)\n",
            "x['b'].dtype:  float64\n"
          ]
        }
      ],
      "source": [
        "print (\"x['a'].shape: \",x['a'].shape)\n",
        "print (\"x['a'].dtype: \", x['a'].dtype)\n",
        "\n",
        "print (\"x['b'].shape: \", x['b'].shape)\n",
        "print (\"x['b'].dtype: \", x['b'].dtype)"
      ]
    },
    {
      "cell_type": "markdown",
      "metadata": {
        "id": "CFyYL7BHqaMU"
      },
      "source": [
        "#### Recorte básico\n",
        "\n",
        "Las matrices NumPy se pueden dividir, de forma similar a las listas. Debe especificar un segmento para cada dimensión de la matriz, ya que las matrices pueden ser multidimensionales.\n",
        "\n",
        "La sintaxis de división básica es `i: j: k`, donde `i` es el índice inicial, `j` es el índice final, `k` es el paso y `k` no es igual a 0. Esto selecciona los elementos `m` en la dimensión correspondiente, con valores de índice `, i + k, ...,i + (m - 1)k` donde `m = q + (r distinto de 0)`,  `q` y `r` son el cociente y el resto se obtiene dividiendo `j - i` entre `k`: `j - i = qk + r`, de modo que `i + (m - 1) k < j`."
      ]
    },
    {
      "cell_type": "code",
      "execution_count": 43,
      "metadata": {
        "id": "gXlzcajJqaMV",
        "colab": {
          "base_uri": "https://localhost:8080/"
        },
        "outputId": "3e66d0a9-0f27-4a6b-82b7-89e4fa918208"
      },
      "outputs": [
        {
          "output_type": "execute_result",
          "data": {
            "text/plain": [
              "array([6, 8])"
            ]
          },
          "metadata": {},
          "execution_count": 43
        }
      ],
      "source": [
        "x = np.array([5, 6, 7, 8, 9])\n",
        "x[1:7:2]"
      ]
    },
    {
      "cell_type": "markdown",
      "metadata": {
        "id": "-NhBkQkcqaMV"
      },
      "source": [
        "La `k` negativa hace que los pasos vayan hacia índices más pequeños. Los `i` y `j` negativos se interpretan como `n + i` y `n + j` donde `n` es el número de elementos en la dimensión correspondiente."
      ]
    },
    {
      "cell_type": "code",
      "execution_count": 44,
      "metadata": {
        "id": "gf66zIIFqaMV",
        "colab": {
          "base_uri": "https://localhost:8080/"
        },
        "outputId": "b26ca894-c459-48a9-bd4b-233fd7783d3e"
      },
      "outputs": [
        {
          "output_type": "stream",
          "name": "stdout",
          "text": [
            "[8 9]\n",
            "[9 8 7]\n"
          ]
        }
      ],
      "source": [
        "print (x[-2:5])\n",
        "print (x[-1:1:-1])"
      ]
    },
    {
      "cell_type": "markdown",
      "metadata": {
        "id": "ZZN6H4gfqaMV"
      },
      "source": [
        "Si `n` es el número de elementos en la dimensión que se está recortando. Entonces, si no se proporciona `i`, el valor predeterminado es `0` para  `k > 0` y `n-1` para `k < 0`. Si no se proporciona `j`, el valor predeterminado es `n` para `k > 0` y `-1` para `k < 0`. Si no se proporciona `k`, el valor predeterminado es `1`. Ten en cuenta que `::` es lo mismo que `:` y significa seleccionar todos los índices a lo largo de este eje."
      ]
    },
    {
      "cell_type": "code",
      "execution_count": 45,
      "metadata": {
        "id": "P4aUAvZDqaMV",
        "colab": {
          "base_uri": "https://localhost:8080/"
        },
        "outputId": "399831f8-a800-4129-944d-86849fc7ba30"
      },
      "outputs": [
        {
          "output_type": "execute_result",
          "data": {
            "text/plain": [
              "array([9])"
            ]
          },
          "metadata": {},
          "execution_count": 45
        }
      ],
      "source": [
        "x[4:]"
      ]
    },
    {
      "cell_type": "markdown",
      "metadata": {
        "id": "LHGoBk77qaMW"
      },
      "source": [
        "Si el número de objetos en la tupla de selección es menor que N , entonces se asume `:` para cualquier dimensión subsiguiente."
      ]
    },
    {
      "cell_type": "code",
      "execution_count": 50,
      "metadata": {
        "id": "gGBsOVcTqaMW",
        "colab": {
          "base_uri": "https://localhost:8080/"
        },
        "outputId": "83de9a34-548e-44c4-b173-7a7f239afbf8"
      },
      "outputs": [
        {
          "output_type": "stream",
          "name": "stdout",
          "text": [
            "Subconjunto: (4, 5)\n",
            "Subconjunto: (3, 5)\n"
          ]
        }
      ],
      "source": [
        "# Completar\n",
        "# Respuesta:\n",
        "import numpy as np\n",
        "\n",
        "arr = np.random.randint(10, size=(3, 4, 5))\n",
        "subset = arr[1]\n",
        "print(\"Subconjunto:\", subset.shape)\n",
        "#Selección de subconjuntos\n",
        "subset = arr[:, 2, :]\n",
        "print(\"Subconjunto:\", subset.shape)\n"
      ]
    },
    {
      "cell_type": "markdown",
      "metadata": {
        "id": "kWkK2ssnqaMW"
      },
      "source": [
        "Los puntos suspensivos se expanden al número de : objetos necesarios para hacer una tupla de selección de la misma longitud que `x.ndim`. Solo puede haber una sola elipsis presente."
      ]
    },
    {
      "cell_type": "code",
      "execution_count": 51,
      "metadata": {
        "id": "9EhQ_hm1qaMW",
        "colab": {
          "base_uri": "https://localhost:8080/"
        },
        "outputId": "40f1d8bd-6073-4a94-aca4-99ff4e4b7209"
      },
      "outputs": [
        {
          "output_type": "stream",
          "name": "stdout",
          "text": [
            "[5 6 7 8 9]\n"
          ]
        }
      ],
      "source": [
        "print(x)"
      ]
    },
    {
      "cell_type": "code",
      "execution_count": 52,
      "metadata": {
        "id": "L36IfJr7qaMX",
        "colab": {
          "base_uri": "https://localhost:8080/"
        },
        "outputId": "a528e2b6-46de-4abd-e7d6-112ac8449ba7"
      },
      "outputs": [
        {
          "output_type": "execute_result",
          "data": {
            "text/plain": [
              "array(5)"
            ]
          },
          "metadata": {},
          "execution_count": 52
        }
      ],
      "source": [
        "x[...,0]"
      ]
    },
    {
      "cell_type": "markdown",
      "metadata": {
        "id": "HroUqdKDqaMX"
      },
      "source": [
        "#### Ejercicio\n",
        "\n",
        "1. Crea una matriz de rango `2` con dimension `(3, 4)`\n",
        "\n",
        "2. Usa el recorte para extraer la submatriz que consta de las primeras `2` filas y las columnas `1` y `2`.\n",
        "\n",
        "3. Una parte de una matriz es solo una vista de los mismos datos, comprueba quecualquier modificación modificará la matriz original.\n",
        "\n"
      ]
    },
    {
      "cell_type": "code",
      "execution_count": 59,
      "metadata": {
        "id": "SO70Y-ssqaMX",
        "colab": {
          "base_uri": "https://localhost:8080/"
        },
        "outputId": "c9000a27-9e51-439d-eb90-a5b5a613c86e"
      },
      "outputs": [
        {
          "output_type": "stream",
          "name": "stdout",
          "text": [
            "Matriz original:\n",
            "[[ 1  2  3  4]\n",
            " [ 5  6  7  8]\n",
            " [ 9 10 11 12]\n",
            " [13 14 15 16]\n",
            " [17 18 19 20]]\n",
            "\n",
            "\n",
            "\n",
            "Submatriz:\n",
            "[[ 7  8]\n",
            " [11 12]]\n",
            "\n",
            "\n",
            "\n",
            "Matriz original después de modificar la submatriz:\n",
            "[[ 1  2  3  4]\n",
            " [ 5  6 99  8]\n",
            " [ 9 10 11 12]\n",
            " [13 14 15 16]\n",
            " [17 18 19 20]]\n",
            "\n",
            "\n",
            "\n",
            "Submatriz después de modificar un elemento:\n",
            "[[99  8]\n",
            " [11 12]]\n",
            "\n",
            "\n"
          ]
        }
      ],
      "source": [
        "# Tu respuesta\n",
        "import numpy as np\n",
        "\n",
        "# Crear la matriz de rango 2 con dimensiones (3, 4)\n",
        "matriz = np.array([[1, 2, 3, 4],\n",
        "                   [5, 6, 7, 8],\n",
        "                   [9, 10, 11, 12],\n",
        "                   [13, 14, 15, 16],\n",
        "                   [17, 18, 19, 20]])\n",
        "\n",
        "# Extraer la submatriz de las primeras 2 filas y las columnas 1 y 2\n",
        "submatriz = matriz[1:3, 2:4]\n",
        "\n",
        "# Vamos a imprimir la matriz original y la submatriz\n",
        "print(\"Matriz original:\")\n",
        "print(matriz)\n",
        "print(\"\\n\")\n",
        "\n",
        "print(\"\\nSubmatriz:\")\n",
        "print(submatriz)\n",
        "print(\"\\n\")\n",
        "\n",
        "# Modificar el elemento en la submatriz\n",
        "submatriz[0, 0] = 99\n",
        "\n",
        "# En esta ocasión tendremos que imprimir nuevamente la matriz original y la submatriz\n",
        "print(\"\\nMatriz original después de modificar la submatriz:\")\n",
        "print(matriz)\n",
        "print(\"\\n\")\n",
        "\n",
        "print(\"\\nSubmatriz después de modificar un elemento:\")\n",
        "print(submatriz)\n",
        "print(\"\\n\")\n"
      ]
    },
    {
      "cell_type": "markdown",
      "metadata": {
        "id": "Pw-VG8JqqaMX"
      },
      "source": [
        "Se puede acceder a la matriz de la fila central de dos maneras.\n",
        "\n",
        "* Las partes junto con la indexación de enteros darán como resultado una matriz de rango inferior.\n",
        "\n",
        "* El uso de solo recortes dará como resultado el mismo rango matriz."
      ]
    },
    {
      "cell_type": "code",
      "execution_count": 53,
      "metadata": {
        "id": "W1ddrRz4qaMY",
        "colab": {
          "base_uri": "https://localhost:8080/"
        },
        "outputId": "7bb527a7-7bf2-468b-e96e-8e342f39a18b"
      },
      "outputs": [
        {
          "output_type": "stream",
          "name": "stdout",
          "text": [
            "[[ 1  2  3  4]\n",
            " [ 5  6  7  8]\n",
            " [ 9 10 11 12]]\n"
          ]
        }
      ],
      "source": [
        "# Creamos una matriz de rango 2 array con dimensión (3, 4)\n",
        "a = np.array([[1,2,3,4], [5,6,7,8], [9,10,11,12]])\n",
        "print (a)"
      ]
    },
    {
      "cell_type": "markdown",
      "metadata": {
        "id": "LYSx-APpqaMY"
      },
      "source": [
        "Dos formas de acceder a los datos en la fila central de la matriz. La combinación de la indexación de enteros con recortes produce una matriz de menor rango, mientras que el uso de solo recortes produce una matriz del mismo rango que la matriz original:"
      ]
    },
    {
      "cell_type": "code",
      "execution_count": 60,
      "metadata": {
        "id": "c3xFq81hqaMY",
        "colab": {
          "base_uri": "https://localhost:8080/"
        },
        "outputId": "10e6d4eb-792a-42bf-c43b-b92109683e9c"
      },
      "outputs": [
        {
          "output_type": "stream",
          "name": "stdout",
          "text": [
            "[5 6 7 8] (4,)\n",
            "[[5 6 7 8]] (1, 4)\n",
            "[[5 6 7 8]] (1, 4)\n"
          ]
        }
      ],
      "source": [
        "fila_r1 = a[1, :]    # Vista de rango 1 de la segunda fila de a\n",
        "fila_r2 = a[1:2, :]  # Vista de rango 2 de la segunda fila de a\n",
        "fila_r3 = a[[1], :]  # Vista de ranfo 2 de la segunda fila de a\n",
        "print (fila_r1, fila_r1.shape)\n",
        "print (fila_r2, fila_r2.shape)\n",
        "print (fila_r3, fila_r3.shape)"
      ]
    },
    {
      "cell_type": "markdown",
      "metadata": {
        "id": "iYqVtaD6qaMY"
      },
      "source": [
        "Podemos hacer la misma distinción al acceder a las columnas de una matriz."
      ]
    },
    {
      "cell_type": "code",
      "execution_count": 61,
      "metadata": {
        "id": "PJAluA4FqaMY",
        "colab": {
          "base_uri": "https://localhost:8080/"
        },
        "outputId": "48f22f40-1958-4521-fa79-e7563004a8e7"
      },
      "outputs": [
        {
          "output_type": "stream",
          "name": "stdout",
          "text": [
            "[ 2  6 10] (3,)\n",
            "[[ 2]\n",
            " [ 6]\n",
            " [10]] (3, 1)\n"
          ]
        }
      ],
      "source": [
        "col_r1 = a[:, 1]\n",
        "col_r2 = a[:, 1:2]\n",
        "print (col_r1, col_r1.shape)\n",
        "print (col_r2, col_r2.shape)"
      ]
    },
    {
      "cell_type": "markdown",
      "metadata": {
        "id": "PMt05HC7qaMZ"
      },
      "source": [
        "### Indexación avanzada\n"
      ]
    },
    {
      "cell_type": "code",
      "execution_count": 70,
      "metadata": {
        "id": "-l49FKg_qaMZ",
        "colab": {
          "base_uri": "https://localhost:8080/"
        },
        "outputId": "45e30b0f-07bb-47e7-f647-4432ac702d62"
      },
      "outputs": [
        {
          "output_type": "stream",
          "name": "stdout",
          "text": [
            "[1 4]\n",
            "[5 6 7 8]\n",
            "[ 9 10 11 12]\n"
          ]
        }
      ],
      "source": [
        "a = np.array([[1,2], [3, 4]])\n",
        "print (a[[0, 1], [0, 1]])\n",
        "\n",
        "# El ejemplo de indexacion de una matriz entera es equivalente a esto:\n",
        "# completar\n",
        "matriz = np.array([[1, 2, 3, 4],\n",
        "                   [5, 6, 7, 8],\n",
        "                   [9, 10, 11, 12],\n",
        "                   [13, 14, 15, 16],\n",
        "                   [17, 18, 19, 20]])\n",
        "\n",
        "fila_plana1 = matriz[1]\n",
        "fila_plana2 = matriz[2]\n",
        "print(fila_plana1)\n",
        "print(fila_plana2)"
      ]
    },
    {
      "cell_type": "markdown",
      "metadata": {
        "id": "6NwtylSHqaMZ"
      },
      "source": [
        "Al usar la indexacion de un matriz de enteros, puede reutilizar el mismo elemento de la matriz de origen:"
      ]
    },
    {
      "cell_type": "code",
      "execution_count": 86,
      "metadata": {
        "id": "uAmd3gFYqaMZ",
        "colab": {
          "base_uri": "https://localhost:8080/"
        },
        "outputId": "d5bb1f69-c4b9-4302-d837-21a19d24c41a"
      },
      "outputs": [
        {
          "output_type": "stream",
          "name": "stdout",
          "text": [
            "[2 2]\n",
            "[ 1  6 11]\n"
          ]
        }
      ],
      "source": [
        "print (a[[0, 0], [1, 1]])\n",
        "\n",
        "# Equivalente al ejemplo de indexacion de matriz de enteros\n",
        "# completar\n",
        "matriz = np.array([[1, 2, 3, 4],\n",
        "                   [5, 6, 7, 8],\n",
        "                   [9, 10, 11, 12],\n",
        "                   [13, 14, 15, 16],\n",
        "                   [17, 18, 19, 20]])\n",
        "\n",
        "indices = np.array([0, 1, 2])\n",
        "#indices2 = np.array([3, 4, 5])\n",
        "\n",
        "elementos = matriz[indices, indices]\n",
        "#elementos2 = matriz[indices2, indices2]\n",
        "\n",
        "print(elementos)\n",
        "#print(elementos2)\n",
        "\n"
      ]
    },
    {
      "cell_type": "markdown",
      "metadata": {
        "id": "FOVCDT4tqaMZ"
      },
      "source": [
        "Un asunto  importante y extremadamente útil acerca de los recortes de una  matriz es que devuelven  *vistas (`views`)* en lugar de *copias (`copies`)*  de los datos de la matriz. Este es un área en la que NumPy  difiere de la lista de Python:  en las listas, estas son copias."
      ]
    },
    {
      "cell_type": "code",
      "execution_count": 65,
      "metadata": {
        "id": "BR_5P6aJqaMa",
        "colab": {
          "base_uri": "https://localhost:8080/"
        },
        "outputId": "c7595715-3f56-4b13-ab3b-42c46a8735f6"
      },
      "outputs": [
        {
          "output_type": "execute_result",
          "data": {
            "text/plain": [
              "array([[5, 0, 3, 3],\n",
              "       [7, 9, 3, 5],\n",
              "       [2, 4, 7, 6],\n",
              "       [8, 8, 1, 6],\n",
              "       [7, 7, 8, 1]])"
            ]
          },
          "metadata": {},
          "execution_count": 65
        }
      ],
      "source": [
        "np.random.seed(0)\n",
        "x2 = np.random.randint(10, size=(5, 4))\n",
        "x2"
      ]
    },
    {
      "cell_type": "code",
      "execution_count": 66,
      "metadata": {
        "id": "-J15zJjXqaMa",
        "colab": {
          "base_uri": "https://localhost:8080/"
        },
        "outputId": "5fcc90e5-b0a2-481e-f214-c116f4fc5d67"
      },
      "outputs": [
        {
          "output_type": "stream",
          "name": "stdout",
          "text": [
            "[[5 0]\n",
            " [7 9]]\n"
          ]
        }
      ],
      "source": [
        "x2_sub = x2[:2, :2]\n",
        "print(x2_sub)"
      ]
    },
    {
      "cell_type": "code",
      "execution_count": 67,
      "metadata": {
        "id": "jZwufbuwqaMa",
        "colab": {
          "base_uri": "https://localhost:8080/"
        },
        "outputId": "b16b9186-df7e-4606-8d2d-66b0dfc8dd11"
      },
      "outputs": [
        {
          "output_type": "stream",
          "name": "stdout",
          "text": [
            "[[99  0]\n",
            " [ 7  9]]\n"
          ]
        }
      ],
      "source": [
        "x2_sub[0, 0] = 99\n",
        "print(x2_sub)"
      ]
    },
    {
      "cell_type": "markdown",
      "metadata": {
        "id": "44JeYQoZqaMa"
      },
      "source": [
        "Este comportamiento predeterminado es realmente muy útil: significa que cuando trabajamos con grandes conjuntos de datos, podemos acceder y procesar partes de estos conjuntos de datos sin necesidad de copiar el búfer de datos.\n",
        "\n",
        "A pesar de las características  de las `vistas` de una  matriz, a veces es útil copiar de forma explícita los datos dentro de una matriz o una submatriz. Esto se puede hacer  con el método `copy()`:"
      ]
    },
    {
      "cell_type": "code",
      "execution_count": 71,
      "metadata": {
        "id": "x_pEqBRWqaMb",
        "colab": {
          "base_uri": "https://localhost:8080/"
        },
        "outputId": "3dd0ec05-497a-4b14-db3c-5f742684b366"
      },
      "outputs": [
        {
          "output_type": "stream",
          "name": "stdout",
          "text": [
            "[[99  0]\n",
            " [ 7  9]]\n"
          ]
        }
      ],
      "source": [
        "x2_sub_copy = x2[:2, :2].copy()\n",
        "print(x2_sub_copy)"
      ]
    },
    {
      "cell_type": "code",
      "execution_count": 72,
      "metadata": {
        "id": "GtNYYOe5qaMb",
        "colab": {
          "base_uri": "https://localhost:8080/"
        },
        "outputId": "38df7990-2d1c-435f-8eec-135932107c58"
      },
      "outputs": [
        {
          "output_type": "stream",
          "name": "stdout",
          "text": [
            "[[42  0]\n",
            " [ 7  9]]\n"
          ]
        }
      ],
      "source": [
        "x2_sub_copy[0, 0] = 42\n",
        "print(x2_sub_copy)"
      ]
    },
    {
      "cell_type": "code",
      "execution_count": 73,
      "metadata": {
        "id": "e7MCSsi3qaMb",
        "colab": {
          "base_uri": "https://localhost:8080/"
        },
        "outputId": "d9e4ebef-9daa-42da-d81a-0a8a7866b023"
      },
      "outputs": [
        {
          "output_type": "stream",
          "name": "stdout",
          "text": [
            "[[99  0  3  3]\n",
            " [ 7  9  3  5]\n",
            " [ 2  4  7  6]\n",
            " [ 8  8  1  6]\n",
            " [ 7  7  8  1]]\n"
          ]
        }
      ],
      "source": [
        "print(x2)"
      ]
    },
    {
      "cell_type": "markdown",
      "metadata": {
        "id": "ujejSPYnHRJ2"
      },
      "source": [
        "### Reshaping"
      ]
    },
    {
      "cell_type": "code",
      "execution_count": 74,
      "metadata": {
        "id": "RGpuTWaTHRJ2",
        "colab": {
          "base_uri": "https://localhost:8080/"
        },
        "outputId": "7ab9fb0a-4be8-4365-eab4-c294e9f77ad5"
      },
      "outputs": [
        {
          "output_type": "stream",
          "name": "stdout",
          "text": [
            "[[1 2 3]\n",
            " [4 5 6]\n",
            " [7 8 9]]\n"
          ]
        }
      ],
      "source": [
        "x4 = np.arange(1, 10).reshape((3, 3))\n",
        "print(x4)"
      ]
    },
    {
      "cell_type": "markdown",
      "metadata": {
        "id": "RU_ETRzWHRJ2"
      },
      "source": [
        "Ten en cuenta que para que esto funcione, el tamaño de la matriz inicial debe coincidir con el tamaño de la matriz rediseñada. Siempre que sea posible, el método `reshape` utilizará una `vista` sin copia de la matriz inicial.\n",
        "\n",
        "Otro patrón de `reshaping `, es la conversión de una matriz unidimensional en una fila o columna de una matriz bidimensional. Esto se puede hacer con el método `reshape`  o más fácilmente haciendo uso de `newaxis` dentro de una operación de división:"
      ]
    },
    {
      "cell_type": "code",
      "execution_count": 75,
      "metadata": {
        "id": "b-LEzn0SHRJ3",
        "colab": {
          "base_uri": "https://localhost:8080/"
        },
        "outputId": "1eed4a57-e753-40fd-a0c9-e2d3833689ec"
      },
      "outputs": [
        {
          "output_type": "execute_result",
          "data": {
            "text/plain": [
              "array([1, 2, 3])"
            ]
          },
          "metadata": {},
          "execution_count": 75
        }
      ],
      "source": [
        "x5 = np.array([1, 2, 3])\n",
        "x5"
      ]
    },
    {
      "cell_type": "code",
      "source": [
        "import numpy as np\n",
        "matriz = np.array([[1, 2, 3, 4],\n",
        "                   [5, 6, 7, 8],\n",
        "                   [9, 10, 11, 12],\n",
        "                   [13, 14, 15, 16],\n",
        "                   [17, 18, 19, 20]])\n",
        "print(\"Matriz Original:\\n\" , matriz)"
      ],
      "metadata": {
        "colab": {
          "base_uri": "https://localhost:8080/"
        },
        "id": "VX_ml-SHoyuf",
        "outputId": "420622c8-4c59-4dec-ba58-3f4751879772"
      },
      "execution_count": 100,
      "outputs": [
        {
          "output_type": "stream",
          "name": "stdout",
          "text": [
            "Matriz Original:\n",
            " [[ 1  2  3  4]\n",
            " [ 5  6  7  8]\n",
            " [ 9 10 11 12]\n",
            " [13 14 15 16]\n",
            " [17 18 19 20]]\n"
          ]
        }
      ]
    },
    {
      "cell_type": "code",
      "execution_count": 93,
      "metadata": {
        "id": "p4UfmxWjHRJ3",
        "colab": {
          "base_uri": "https://localhost:8080/"
        },
        "outputId": "8b83c9ad-cebb-4da2-927b-145aac63fcfe"
      },
      "outputs": [
        {
          "output_type": "stream",
          "name": "stdout",
          "text": [
            "Matriz original:\n",
            "[[ 1  2  3  4]\n",
            " [ 5  6  7  8]\n",
            " [ 9 10 11 12]\n",
            " [13 14 15 16]\n",
            " [17 18 19 20]]\n",
            "\n",
            "\n",
            "\n",
            "Vector fila:\n",
            "[[ 1  2  3  4  5  6  7  8  9 10 11 12 13 14 15 16 17 18 19 20]]\n"
          ]
        }
      ],
      "source": [
        "# vector fila via reshape\n",
        "# completar\n",
        "import numpy as np\n",
        "matriz = np.array([[1, 2, 3, 4],\n",
        "                   [5, 6, 7, 8],\n",
        "                   [9, 10, 11, 12],\n",
        "                   [13, 14, 15, 16],\n",
        "                   [17, 18, 19, 20]])\n",
        "# Vector original\n",
        "#vector = np.array([1, 2, 3, 4, 5])\n",
        "\n",
        "# Utilizaremos reshape para convertir en vector fila\n",
        "vectorfila = matriz.reshape(1, -1)\n",
        "\n",
        "print(\"Matriz original:\")\n",
        "print(matriz)\n",
        "print(\"\\n\")\n",
        "\n",
        "print(\"\\nVector fila:\")\n",
        "print(vectorfila)"
      ]
    },
    {
      "cell_type": "code",
      "execution_count": 106,
      "metadata": {
        "id": "Pv8bWknUHRJ3",
        "colab": {
          "base_uri": "https://localhost:8080/"
        },
        "outputId": "10be8759-1e2b-4e03-8523-0f040b439770"
      },
      "outputs": [
        {
          "output_type": "stream",
          "name": "stdout",
          "text": [
            "Matriz original:\n",
            "[[ 1  2  3  4]\n",
            " [ 5  6  7  8]\n",
            " [ 9 10 11 12]\n",
            " [13 14 15 16]\n",
            " [17 18 19 20]]\n",
            "\n",
            "\n",
            "\n",
            "Vector fila:\n",
            "[[[ 1  2  3  4]\n",
            "  [ 5  6  7  8]\n",
            "  [ 9 10 11 12]\n",
            "  [13 14 15 16]\n",
            "  [17 18 19 20]]]\n"
          ]
        }
      ],
      "source": [
        "# vector fila con newaxis\n",
        "# completar\n",
        "vector_fila1 = matriz[np.newaxis, :]\n",
        "print(\"Matriz original:\")\n",
        "print(matriz)\n",
        "print(\"\\n\")\n",
        "\n",
        "print(\"\\nVector fila:\")\n",
        "print(vector_fila1)"
      ]
    },
    {
      "cell_type": "code",
      "execution_count": 108,
      "metadata": {
        "id": "Q2pcC_zfHRJ4",
        "colab": {
          "base_uri": "https://localhost:8080/"
        },
        "outputId": "d749e6a7-7eb6-4e25-e3aa-2bfb096735e7"
      },
      "outputs": [
        {
          "output_type": "stream",
          "name": "stdout",
          "text": [
            "Matriz original:\n",
            "[[ 1  2  3  4]\n",
            " [ 5  6  7  8]\n",
            " [ 9 10 11 12]\n",
            " [13 14 15 16]\n",
            " [17 18 19 20]]\n",
            "\n",
            "\n",
            "\n",
            "Vector columna:\n",
            "[[ 1]\n",
            " [ 2]\n",
            " [ 3]\n",
            " [ 4]\n",
            " [ 5]\n",
            " [ 6]\n",
            " [ 7]\n",
            " [ 8]\n",
            " [ 9]\n",
            " [10]\n",
            " [11]\n",
            " [12]\n",
            " [13]\n",
            " [14]\n",
            " [15]\n",
            " [16]\n",
            " [17]\n",
            " [18]\n",
            " [19]\n",
            " [20]]\n"
          ]
        }
      ],
      "source": [
        "# vector columna via reshape\n",
        "# completar\n",
        "vector_columna1 = matriz.reshape(-1, 1)\n",
        "print(\"Matriz original:\")\n",
        "print(matriz)\n",
        "print(\"\\n\")\n",
        "\n",
        "print(\"\\nVector columna:\")\n",
        "print(vector_columna1)"
      ]
    },
    {
      "cell_type": "code",
      "execution_count": 112,
      "metadata": {
        "id": "HcVHXqr-HRJ4",
        "colab": {
          "base_uri": "https://localhost:8080/"
        },
        "outputId": "75424494-880b-46ea-eff8-49cb10cf4f1a"
      },
      "outputs": [
        {
          "output_type": "stream",
          "name": "stdout",
          "text": [
            "Matriz original:\n",
            "[[ 1  2  3  4]\n",
            " [ 5  6  7  8]\n",
            " [ 9 10 11 12]\n",
            " [13 14 15 16]\n",
            " [17 18 19 20]]\n",
            "\n",
            "\n",
            "\n",
            "Vector columna:\n",
            "[[[ 1  2  3  4]]\n",
            "\n",
            " [[ 5  6  7  8]]\n",
            "\n",
            " [[ 9 10 11 12]]\n",
            "\n",
            " [[13 14 15 16]]\n",
            "\n",
            " [[17 18 19 20]]]\n"
          ]
        }
      ],
      "source": [
        "# vector columna con newaxis\n",
        "# completar\n",
        "vector_columna2 = matriz[:, np.newaxis]\n",
        "print(\"Matriz original:\")\n",
        "print(matriz)\n",
        "print(\"\\n\")\n",
        "\n",
        "print(\"\\nVector columna:\")\n",
        "print(vector_columna2)"
      ]
    },
    {
      "cell_type": "markdown",
      "metadata": {
        "collapsed": true,
        "id": "YzFU6QFlHRJ4"
      },
      "source": [
        "### Concatenación y  separación\n"
      ]
    },
    {
      "cell_type": "code",
      "execution_count": 101,
      "metadata": {
        "id": "sViXchcIHRJ5",
        "colab": {
          "base_uri": "https://localhost:8080/"
        },
        "outputId": "1f6e9813-54b3-4448-e7c6-3188624dda69"
      },
      "outputs": [
        {
          "output_type": "execute_result",
          "data": {
            "text/plain": [
              "array([4, 5, 6, 7, 8, 9])"
            ]
          },
          "metadata": {},
          "execution_count": 101
        }
      ],
      "source": [
        "x = np.array([4, 5, 6])\n",
        "y = np.array([7, 8, 9])\n",
        "np.concatenate([x, y])"
      ]
    },
    {
      "cell_type": "code",
      "execution_count": 102,
      "metadata": {
        "id": "9P1oTO3SHRJ5",
        "colab": {
          "base_uri": "https://localhost:8080/"
        },
        "outputId": "9ba8dbd7-55b0-43b5-e509-96018d51b97e"
      },
      "outputs": [
        {
          "output_type": "stream",
          "name": "stdout",
          "text": [
            "[ 4  5  6  7  8  9 99 99 99]\n"
          ]
        }
      ],
      "source": [
        "# concatenacion de dos o mas matrices\n",
        "z = [99, 99, 99]\n",
        "print(np.concatenate([x, y, z]))"
      ]
    },
    {
      "cell_type": "code",
      "execution_count": 103,
      "metadata": {
        "id": "ExC9DeMgHRJ5",
        "colab": {
          "base_uri": "https://localhost:8080/"
        },
        "outputId": "7aaecc50-d5ed-47e7-8fce-43331c68a1f8"
      },
      "outputs": [
        {
          "output_type": "execute_result",
          "data": {
            "text/plain": [
              "array([[1, 2, 3],\n",
              "       [4, 5, 6],\n",
              "       [1, 2, 3],\n",
              "       [4, 5, 6]])"
            ]
          },
          "metadata": {},
          "execution_count": 103
        }
      ],
      "source": [
        "# concatendo una matriz dos veces\n",
        "grid = np.array([[1, 2, 3],\n",
        "                 [4, 5, 6]])\n",
        "np.concatenate([grid, grid])"
      ]
    },
    {
      "cell_type": "markdown",
      "metadata": {
        "id": "FV3TV1wgHRJ6"
      },
      "source": [
        "Para trabajar con matrices de distintas dimensiones, se usan las funciones `vstack` y `hstack`:"
      ]
    },
    {
      "cell_type": "code",
      "execution_count": 114,
      "metadata": {
        "id": "JXqPVFAeHRJ6",
        "colab": {
          "base_uri": "https://localhost:8080/"
        },
        "outputId": "4dde95d7-b4bc-4210-b879-2de0ae6a4237"
      },
      "outputs": [
        {
          "output_type": "stream",
          "name": "stdout",
          "text": [
            "[[0 1 2]\n",
            " [3 4 5]\n",
            " [6 5 4]]\n"
          ]
        }
      ],
      "source": [
        "x = np.array([0, 1, 2])\n",
        "grid = np.array([[3, 4, 5],\n",
        "                 [6, 5, 4]])\n",
        "\n",
        "# Se junta la matriz de manera vertical\n",
        "# Completar\n",
        "A = np.vstack((x, grid))\n",
        "print(A)"
      ]
    },
    {
      "cell_type": "code",
      "execution_count": 115,
      "metadata": {
        "id": "tx_sdnkxHRJ7",
        "colab": {
          "base_uri": "https://localhost:8080/"
        },
        "outputId": "1d40d933-d397-401e-f7d3-ee33f56e7831"
      },
      "outputs": [
        {
          "output_type": "stream",
          "name": "stdout",
          "text": [
            "[23 23]\n"
          ]
        }
      ],
      "source": [
        "# Se junta la matriz de manera horizontal\n",
        "y = np.array([[23],\n",
        "              [23]])\n",
        "# Completar\n",
        "B = np.hstack((y))\n",
        "print(B)"
      ]
    },
    {
      "cell_type": "markdown",
      "metadata": {
        "collapsed": true,
        "id": "0GWOBZtIHRJ7"
      },
      "source": [
        "Lo contrario de la concatenación es la división o separación, que es implementado por las funciones `np.split`, `np.hsplit` y `np.vsplit`. Para cada uno de estas funciones , podemos pasar una lista de índices que dan los puntos de división.\n",
        "\n",
        "Ver:[https://numpy.org/doc/stable/reference/generated/numpy.split.html](https://numpy.org/doc/stable/reference/generated/numpy.split.html)"
      ]
    },
    {
      "cell_type": "code",
      "execution_count": 116,
      "metadata": {
        "id": "gkXomQdcHRJ7",
        "colab": {
          "base_uri": "https://localhost:8080/"
        },
        "outputId": "de9e973b-dcd9-4a10-fdb3-5b41d91d875c"
      },
      "outputs": [
        {
          "output_type": "stream",
          "name": "stdout",
          "text": [
            "[1 2 3] [44 95] [3 2 1]\n"
          ]
        }
      ],
      "source": [
        "x = [1, 2, 3, 44, 95, 3, 2, 1]\n",
        "x1, x2, x3 = np.split(x, [3, 5])\n",
        "print(x1, x2, x3)"
      ]
    },
    {
      "cell_type": "code",
      "execution_count": 117,
      "metadata": {
        "id": "N3db3D7cHRJ7",
        "colab": {
          "base_uri": "https://localhost:8080/"
        },
        "outputId": "c6d5049c-4712-43bc-b0f2-0973549fcbc2"
      },
      "outputs": [
        {
          "output_type": "execute_result",
          "data": {
            "text/plain": [
              "array([[ 0,  1,  2,  3],\n",
              "       [ 4,  5,  6,  7],\n",
              "       [ 8,  9, 10, 11],\n",
              "       [12, 13, 14, 15]])"
            ]
          },
          "metadata": {},
          "execution_count": 117
        }
      ],
      "source": [
        "grid = np.arange(16).reshape((4, 4))\n",
        "grid"
      ]
    },
    {
      "cell_type": "code",
      "execution_count": 118,
      "metadata": {
        "id": "-1wFFEyfHRJ8",
        "colab": {
          "base_uri": "https://localhost:8080/"
        },
        "outputId": "8ec1601d-bf0e-4cf9-9bb7-ed77fd41c3a0"
      },
      "outputs": [
        {
          "output_type": "stream",
          "name": "stdout",
          "text": [
            "[[0 1 2 3]\n",
            " [4 5 6 7]]\n",
            "[[ 8  9 10 11]\n",
            " [12 13 14 15]]\n"
          ]
        }
      ],
      "source": [
        "grid1, grid2 = np.vsplit(grid, [2])\n",
        "print(grid1)\n",
        "print(grid2)"
      ]
    },
    {
      "cell_type": "code",
      "execution_count": 119,
      "metadata": {
        "id": "-QSxKWNJHRJ8",
        "colab": {
          "base_uri": "https://localhost:8080/"
        },
        "outputId": "6ec6a1aa-4656-4f6b-c448-d0785554db55"
      },
      "outputs": [
        {
          "output_type": "stream",
          "name": "stdout",
          "text": [
            "[[ 0  1]\n",
            " [ 4  5]\n",
            " [ 8  9]\n",
            " [12 13]]\n",
            "[[ 2  3]\n",
            " [ 6  7]\n",
            " [10 11]\n",
            " [14 15]]\n"
          ]
        }
      ],
      "source": [
        "grid3, grid4 = np.hsplit(grid,[2])\n",
        "print(grid3)\n",
        "print(grid4)"
      ]
    },
    {
      "cell_type": "markdown",
      "metadata": {
        "id": "tHP4XmEoHRKJ"
      },
      "source": [
        "### Fancy\n"
      ]
    },
    {
      "cell_type": "code",
      "execution_count": 120,
      "metadata": {
        "id": "p8Sk55iPHRKK",
        "colab": {
          "base_uri": "https://localhost:8080/"
        },
        "outputId": "dcb18df8-2d97-497d-c222-8ba6bab5a19e"
      },
      "outputs": [
        {
          "output_type": "stream",
          "name": "stdout",
          "text": [
            "[51 92 14 71 60 20 82 86 74 74]\n"
          ]
        }
      ],
      "source": [
        "rand = np.random.RandomState(42)\n",
        "x = rand.randint(100, size=10)\n",
        "print(x)"
      ]
    },
    {
      "cell_type": "code",
      "execution_count": 121,
      "metadata": {
        "id": "WnihK-M2HRKM",
        "colab": {
          "base_uri": "https://localhost:8080/"
        },
        "outputId": "5d263290-948b-4af4-c8bb-127b37f646c7"
      },
      "outputs": [
        {
          "output_type": "execute_result",
          "data": {
            "text/plain": [
              "[92, 20, 14]"
            ]
          },
          "metadata": {},
          "execution_count": 121
        }
      ],
      "source": [
        "# Accedemos a tres elementos diferentes\n",
        "[x[1], x[5], x[2]]"
      ]
    },
    {
      "cell_type": "markdown",
      "metadata": {
        "id": "avs1AUSlHRKN"
      },
      "source": [
        "Alternativamente, podemos pasar una sola lista o matriz de índices para obtener el mismo resultado:"
      ]
    },
    {
      "cell_type": "code",
      "execution_count": 122,
      "metadata": {
        "id": "buKD93QUHRKN",
        "colab": {
          "base_uri": "https://localhost:8080/"
        },
        "outputId": "5a8f0a2b-007b-4171-f205-8f51c374d1ec"
      },
      "outputs": [
        {
          "output_type": "stream",
          "name": "stdout",
          "text": [
            "[92 71 20]\n"
          ]
        }
      ],
      "source": [
        "# Completar\n",
        "grid = np.arange(16).reshape((4, 4))\n",
        "indices = np.array([1, 3, 5])\n",
        "seleccion = x[indices]\n",
        "print(seleccion)\n"
      ]
    },
    {
      "cell_type": "markdown",
      "metadata": {
        "id": "pIU1Q9zyHRKO"
      },
      "source": [
        "Cuando se utiliza fancy, la forma del resultado refleja la forma de las matrices de índice en lugar de la forma de la matriz que se indexa y trabaja  en múltiples  dimensiones:"
      ]
    },
    {
      "cell_type": "code",
      "execution_count": 125,
      "metadata": {
        "id": "u4Baonx_HRKO",
        "colab": {
          "base_uri": "https://localhost:8080/"
        },
        "outputId": "26fdf3a3-c513-4acc-dc9f-574fab8048eb"
      },
      "outputs": [
        {
          "output_type": "stream",
          "name": "stdout",
          "text": [
            "[[[[ 0  1  2  3]\n",
            "   [ 8  9 10 11]]\n",
            "\n",
            "  [[ 4  5  6  7]\n",
            "   [ 8  9 10 11]]]\n",
            "\n",
            "\n",
            " [[[ 4  5  6  7]\n",
            "   [ 0  1  2  3]]\n",
            "\n",
            "  [[ 8  9 10 11]\n",
            "   [ 4  5  6  7]]]\n",
            "\n",
            "\n",
            " [[[ 8  9 10 11]\n",
            "   [ 4  5  6  7]]\n",
            "\n",
            "  [[ 0  1  2  3]\n",
            "   [ 0  1  2  3]]]]\n",
            "(3, 2, 2, 4)\n"
          ]
        }
      ],
      "source": [
        "# Completar\n",
        "grid = np.arange(16).reshape((4, 4))\n",
        "indices = np.array([[[0, 2], [1, 2]],\n",
        "                    [[1, 0], [2, 1]],\n",
        "                    [[2, 1], [0, 0]]])\n",
        "seleccion = grid[indices]\n",
        "print(seleccion)\n",
        "print(seleccion.shape)\n"
      ]
    },
    {
      "cell_type": "code",
      "execution_count": 123,
      "metadata": {
        "id": "QFPQLUylHRKO",
        "colab": {
          "base_uri": "https://localhost:8080/"
        },
        "outputId": "75398442-b4ec-4dfb-9a84-74ca2f4afbb4"
      },
      "outputs": [
        {
          "output_type": "execute_result",
          "data": {
            "text/plain": [
              "array([[ 0,  1,  2,  3],\n",
              "       [ 4,  5,  6,  7],\n",
              "       [ 8,  9, 10, 11]])"
            ]
          },
          "metadata": {},
          "execution_count": 123
        }
      ],
      "source": [
        "X = np.arange(12).reshape((3, 4))\n",
        "X"
      ]
    },
    {
      "cell_type": "markdown",
      "metadata": {
        "id": "BbqZMwVKHRKP"
      },
      "source": [
        "Al igual que con la indexación estándar, el primer índice se refiere a la fila, y el segundo a la columna:"
      ]
    },
    {
      "cell_type": "code",
      "execution_count": 124,
      "metadata": {
        "id": "JOmJykqdHRKP",
        "colab": {
          "base_uri": "https://localhost:8080/"
        },
        "outputId": "d5b72699-4b0c-4677-e682-8b3bac6d5e6c"
      },
      "outputs": [
        {
          "output_type": "execute_result",
          "data": {
            "text/plain": [
              "array([ 2,  5, 11])"
            ]
          },
          "metadata": {},
          "execution_count": 124
        }
      ],
      "source": [
        "fila = np.array([0, 1, 2])\n",
        "col = np.array([2, 1, 3])\n",
        "X[fila, col]"
      ]
    },
    {
      "cell_type": "markdown",
      "metadata": {
        "id": "5UbI7MM1HRKP"
      },
      "source": [
        "Observa que el primer valor en el resultado es `X[0, 2]`, el segundo es `X[1, 1]`  y el tercero es `X[2, 3]`. El emparejamiento de índices en la indexación fancy  sigue todas las reglas del broadcasting, por ejemplo, si combinamos un vector de columna y un vector de fila dentro de los índices, obtenemos un resultado bidimensional:"
      ]
    },
    {
      "cell_type": "code",
      "execution_count": 132,
      "metadata": {
        "id": "ZHaBvrvmHRKQ",
        "colab": {
          "base_uri": "https://localhost:8080/"
        },
        "outputId": "7e6f2a55-dd45-454f-e33d-b540a01ead0c"
      },
      "outputs": [
        {
          "output_type": "stream",
          "name": "stdout",
          "text": [
            "Matriz original:\n",
            "[[ 0  1  2  3]\n",
            " [ 4  5  6  7]\n",
            " [ 8  9 10 11]]\n",
            "\n",
            "\n",
            "Resultante:\n",
            "[ 2  5 11]\n"
          ]
        }
      ],
      "source": [
        "# Completar\n",
        "X = np.arange(12).reshape((3, 4))\n",
        "print(\"Matriz original:\")\n",
        "print(X)\n",
        "print(\"\\n\")\n",
        "\n",
        "fila = np.array([0, 1, 2])\n",
        "col = np.array([2, 1, 3])\n",
        "selección=X[fila, col]\n",
        "print(\"Resultante:\")\n",
        "print(selección)"
      ]
    },
    {
      "cell_type": "markdown",
      "metadata": {
        "id": "UY1C8fh7HRKQ"
      },
      "source": [
        "Aquí, cada valor de fila se empareja con cada vector de columna, exactamente como se hace en broadcasting  de operaciones aritméticas. Por ejemplo:"
      ]
    },
    {
      "cell_type": "code",
      "execution_count": 133,
      "metadata": {
        "id": "WlT7nSHMHRKQ",
        "colab": {
          "base_uri": "https://localhost:8080/"
        },
        "outputId": "397ea024-169c-44c5-c67a-ef5fa78271bc"
      },
      "outputs": [
        {
          "output_type": "stream",
          "name": "stdout",
          "text": [
            "[[2 3]\n",
            " [6 7]]\n"
          ]
        }
      ],
      "source": [
        "# Completar\n",
        "Y = np.arange(12).reshape((3, 4))\n",
        "filas = np.array([[0], [1]])\n",
        "columnas = np.array([[2, 3]])\n",
        "seleccion = Y[filas, columnas]\n",
        "print(seleccion)\n"
      ]
    },
    {
      "cell_type": "markdown",
      "metadata": {
        "id": "3UA5Ps0cHRKd"
      },
      "source": [
        "Siempre es importante recordar que en  la indexación fancy, el valor de retorno refleja la forma del broadcasting  de los índices, en lugar de la forma de la matriz que se indexa."
      ]
    },
    {
      "cell_type": "markdown",
      "metadata": {
        "id": "QN9wN13cHRKd"
      },
      "source": [
        "Para operaciones  más potentes, la indexación adornada se puede combinar con los otros esquemas de indexación que existen:"
      ]
    },
    {
      "cell_type": "code",
      "execution_count": 141,
      "metadata": {
        "id": "p_gbcz40HRKe",
        "colab": {
          "base_uri": "https://localhost:8080/"
        },
        "outputId": "2cc560f9-42c4-48da-f51f-376c245f93e6"
      },
      "outputs": [
        {
          "output_type": "stream",
          "name": "stdout",
          "text": [
            "Matiz Orgininal\n",
            "[[-4 -2  3]\n",
            " [-4  5 -6]\n",
            " [ 7 -8 -9]]\n",
            "\n",
            "\n",
            "Matiz Orgininal\n",
            "[[0 0 3]\n",
            " [0 5 0]\n",
            " [7 0 0]]\n"
          ]
        }
      ],
      "source": [
        "# print(X)\n",
        "A = np.array([[-4, -2, 3], [-4, 5, -6], [7, -8, -9]])\n",
        "print(\"Matiz Orgininal\")\n",
        "print(A)\n",
        "print(\"\\n\")\n",
        "\n",
        "print(\"Matiz Orgininal\")\n",
        "negativos = A < 0\n",
        "A[negativos] = 0\n",
        "print(A)\n"
      ]
    },
    {
      "cell_type": "code",
      "execution_count": 142,
      "metadata": {
        "id": "TEFOFrl4HRKe",
        "colab": {
          "base_uri": "https://localhost:8080/"
        },
        "outputId": "6753505e-205a-4125-d149-0db26e90f9fe"
      },
      "outputs": [
        {
          "output_type": "stream",
          "name": "stdout",
          "text": [
            "[[ 2  3  4]\n",
            " [12 13 14]]\n"
          ]
        }
      ],
      "source": [
        "# Combinando el indexado fancy y indices simples\n",
        "# Completar\n",
        "arr = np.array([[1, 2, 3, 4, 5],\n",
        "                [6, 7, 8, 9, 10],\n",
        "                [11, 12, 13, 14, 15]])\n",
        "result = arr[[0, 2], 1:4]\n",
        "print(result)"
      ]
    },
    {
      "cell_type": "code",
      "execution_count": 143,
      "metadata": {
        "id": "BZcspK2-HRKe",
        "colab": {
          "base_uri": "https://localhost:8080/"
        },
        "outputId": "67cbdd82-e9ce-4129-d1ee-6ef7aa0c7534"
      },
      "outputs": [
        {
          "output_type": "stream",
          "name": "stdout",
          "text": [
            "[ 0 99 99  3 99  5  6  7 99  9 10 11 12 13 14 15 16 17 18 19 20 21 22 23\n",
            " 24 25 26 27 28 29 30 31 32 33 34 35 36 37 38 39 40 41 42 43 44 45 46 47\n",
            " 48 49 50 51 52 53 54 55 56 57 58 59 60 61 62 63 64 65 66 67 68 69 70 71\n",
            " 72 73 74 75 76 77 78 79 80 81 82 83 84 85 86 87 88 89 90 91 92 93 94 95\n",
            " 96 97 98 99]\n"
          ]
        }
      ],
      "source": [
        "# Combinando el indexado fancy y el recorte\n",
        "# Completar\n",
        "x = np.arange(100)\n",
        "i = np.array([2, 1, 8, 4])\n",
        "x[i] = 99\n",
        "print(x)"
      ]
    },
    {
      "cell_type": "markdown",
      "metadata": {
        "id": "O1T_gLwoHRKf"
      },
      "source": [
        "Así como el fancy  se puede utilizar para acceder a partes de una matriz, también se puede utilizar para modificar partes de una matriz. Por ejemplo, si  tenemos una matriz de índices y nos gustaría establecer los elementos correspondientes en una matriz a algún valor, podemos hacer lo siguiente:"
      ]
    },
    {
      "cell_type": "code",
      "execution_count": 144,
      "metadata": {
        "id": "ye2LR3_qHRKf",
        "colab": {
          "base_uri": "https://localhost:8080/"
        },
        "outputId": "44847a09-ef08-4efa-e2ff-ff1a57fc22c1"
      },
      "outputs": [
        {
          "output_type": "stream",
          "name": "stdout",
          "text": [
            "[ 0 99 99  3 99  5  6  7 99  9]\n"
          ]
        }
      ],
      "source": [
        "x = np.arange(10)\n",
        "i = np.array([2, 1, 8, 4])\n",
        "x[i] = 99\n",
        "print(x)"
      ]
    },
    {
      "cell_type": "markdown",
      "metadata": {
        "id": "R7FOcHtwHRKg"
      },
      "source": [
        "Los índices repetidos con estas operaciones pueden causar algunos resultados potencialmente inesperados. Considera lo siguiente:"
      ]
    },
    {
      "cell_type": "code",
      "execution_count": 145,
      "metadata": {
        "id": "Ja7j27ctHRKg",
        "colab": {
          "base_uri": "https://localhost:8080/"
        },
        "outputId": "f395a921-209e-47f6-9083-158aa28d759b"
      },
      "outputs": [
        {
          "output_type": "stream",
          "name": "stdout",
          "text": [
            "[6. 0. 0. 0. 0. 0. 0. 0. 0. 0.]\n"
          ]
        }
      ],
      "source": [
        "x = np.zeros(10)\n",
        "x[[0, 0]] = [4, 6]\n",
        "print(x)"
      ]
    },
    {
      "cell_type": "markdown",
      "metadata": {
        "collapsed": true,
        "id": "O3wLVTgBHRKg"
      },
      "source": [
        "El resultado de esta operación es asignar primero  `x[0] = 4`, seguido por `x[0] = 6`. Pero el resultado es que `x[0]` contiene el valor 6.\n",
        "\n",
        "Considera la siguiente operación:"
      ]
    },
    {
      "cell_type": "code",
      "execution_count": 146,
      "metadata": {
        "id": "9Y9isBdeHRKg",
        "colab": {
          "base_uri": "https://localhost:8080/"
        },
        "outputId": "aec57e63-9e59-4e14-96e3-b0c73fe6f836"
      },
      "outputs": [
        {
          "output_type": "execute_result",
          "data": {
            "text/plain": [
              "array([6., 0., 1., 1., 1., 0., 0., 0., 0., 0.])"
            ]
          },
          "metadata": {},
          "execution_count": 146
        }
      ],
      "source": [
        "i = [2, 3, 3, 4, 4, 4]\n",
        "x[i] += 1\n",
        "x"
      ]
    },
    {
      "cell_type": "markdown",
      "metadata": {
        "id": "fLCn40UwHRKh"
      },
      "source": [
        "En este caso algún resultado inesperado se debe conceptualmente  a que `x[i] +=1` se entiende como una abreviatura de `x[i] = x [i] + 1`. Cuando `x[i] + 1` es evaluado el resultado es asignado  a los índices en `x` . Con esto en mente, no es que el aumento que ocurre varias veces, sino la asignación, que conduce a los resultados  no intuitivos.\n",
        "\n",
        "Si quieremos  el otro comportamiento donde se repite la operación, se puede utilizar el método `at()` de `ufuncs`:"
      ]
    },
    {
      "cell_type": "code",
      "execution_count": 155,
      "metadata": {
        "id": "3rahnE5wHRKi",
        "colab": {
          "base_uri": "https://localhost:8080/"
        },
        "outputId": "2af71716-db19-4f1e-9c45-59581c62014f"
      },
      "outputs": [
        {
          "output_type": "stream",
          "name": "stdout",
          "text": [
            "[0. 0. 0. 0. 0. 0. 0. 0. 0. 0. 0. 0. 0. 0.]\n",
            "[0. 2. 0. 1. 1. 1. 0. 0. 0. 0. 0. 0. 0. 0.]\n"
          ]
        }
      ],
      "source": [
        "# Completar\n",
        "x = np.zeros(14)\n",
        "print(x)\n",
        "\n",
        "# Definimos los índices\n",
        "i= np.array([[1, 1, 3, 4, 5]])\n",
        "\n",
        "# Utilizamos at() para agregar 1 a los elementos correspondientes\n",
        "np.add.at(x, i, 1)\n",
        "print(x)"
      ]
    },
    {
      "cell_type": "markdown",
      "metadata": {
        "id": "0rziizOtHRKj"
      },
      "source": [
        "El método `at()` realiza una aplicación  del operador dado en los índices especificados (aquí, `i`) con el valor especificado (aquí, `1`)."
      ]
    },
    {
      "cell_type": "markdown",
      "metadata": {
        "id": "17TwhqScqaMm"
      },
      "source": [
        "###  Expresiones vectorizadas"
      ]
    },
    {
      "cell_type": "markdown",
      "metadata": {
        "id": "3QMUpEcqqaMn"
      },
      "source": [
        "### Agregaciones\n"
      ]
    },
    {
      "cell_type": "code",
      "execution_count": 153,
      "metadata": {
        "id": "MLhcZaakqaMn",
        "colab": {
          "base_uri": "https://localhost:8080/"
        },
        "outputId": "06d254ea-63e1-4c0b-d0e8-78e40ba9b1f0"
      },
      "outputs": [
        {
          "output_type": "execute_result",
          "data": {
            "text/plain": [
              "47.03631196196963"
            ]
          },
          "metadata": {},
          "execution_count": 153
        }
      ],
      "source": [
        "L = np.random.random(100)\n",
        "sum(L)"
      ]
    },
    {
      "cell_type": "markdown",
      "metadata": {
        "id": "0Y_nOzbsqaMn"
      },
      "source": [
        "La sintaxis es bastante similar a la función de `sum` de  `NumPy`  y el resultado es el mismo en el caso más simple:"
      ]
    },
    {
      "cell_type": "code",
      "execution_count": 154,
      "metadata": {
        "id": "WXgGIcQSqaMn",
        "colab": {
          "base_uri": "https://localhost:8080/"
        },
        "outputId": "c4f95c13-5fe0-49dc-acc5-f36627b9e07d"
      },
      "outputs": [
        {
          "output_type": "execute_result",
          "data": {
            "text/plain": [
              "47.03631196196964"
            ]
          },
          "metadata": {},
          "execution_count": 154
        }
      ],
      "source": [
        "np.sum(L)"
      ]
    },
    {
      "cell_type": "markdown",
      "metadata": {
        "id": "7FhCoi_JqaMn"
      },
      "source": [
        "Sin embargo, debido a que la operación se ejecuta  en código compilado, la versión `NumPy` de la operación se calcula mucho más rápidamente:"
      ]
    },
    {
      "cell_type": "code",
      "execution_count": 156,
      "metadata": {
        "id": "L1FKgXK_qaMn",
        "colab": {
          "base_uri": "https://localhost:8080/"
        },
        "outputId": "840baf8e-8bce-4d3f-81e2-828cb1091c95"
      },
      "outputs": [
        {
          "output_type": "stream",
          "name": "stdout",
          "text": [
            "90.6 ms ± 1.2 ms per loop (mean ± std. dev. of 7 runs, 10 loops each)\n",
            "379 µs ± 18.8 µs per loop (mean ± std. dev. of 7 runs, 1000 loops each)\n"
          ]
        }
      ],
      "source": [
        "matriz_grande = np.random.rand(1000000)\n",
        "%timeit sum(matriz_grande)\n",
        "%timeit np.sum(matriz_grande)"
      ]
    },
    {
      "cell_type": "markdown",
      "metadata": {
        "id": "7I3yj7HrqaMn"
      },
      "source": [
        "La función `sum` y la función `np.sum` no son idénticas, lo que a veces puede conducir a la confusión.  En particular, sus argumentos opcionales tienen significados diferentes  y `np.sum` es válido a  varias dimensiones de una matriz."
      ]
    },
    {
      "cell_type": "code",
      "execution_count": 157,
      "metadata": {
        "id": "46tC54BJqaMn",
        "colab": {
          "base_uri": "https://localhost:8080/"
        },
        "outputId": "a580b630-1d34-4d40-c2b2-d3811efefac8"
      },
      "outputs": [
        {
          "output_type": "execute_result",
          "data": {
            "text/plain": [
              "(7.071203171893359e-07, 0.9999997207656334)"
            ]
          },
          "metadata": {},
          "execution_count": 157
        }
      ],
      "source": [
        "# Otras funciones min y max\n",
        "min(matriz_grande), max(matriz_grande)"
      ]
    },
    {
      "cell_type": "code",
      "execution_count": 158,
      "metadata": {
        "id": "RcZyNPFzqaMn",
        "colab": {
          "base_uri": "https://localhost:8080/"
        },
        "outputId": "90de33b5-45b8-41e2-e8e7-8e8545186590"
      },
      "outputs": [
        {
          "output_type": "stream",
          "name": "stdout",
          "text": [
            "62.5 ms ± 1.1 ms per loop (mean ± std. dev. of 7 runs, 10 loops each)\n",
            "424 µs ± 16.3 µs per loop (mean ± std. dev. of 7 runs, 1000 loops each)\n"
          ]
        }
      ],
      "source": [
        "%timeit min(matriz_grande)\n",
        "%timeit np.min(matriz_grande)"
      ]
    },
    {
      "cell_type": "markdown",
      "metadata": {
        "id": "FKC12DzRqaMn"
      },
      "source": [
        "Todas estas funciones también están disponibles como métodos en la clase `ndarray`. Por ejemplo, `np.mean(data)` y `data.mean()` en el ejemplo siguiente son equivalentes:"
      ]
    },
    {
      "cell_type": "code",
      "execution_count": 159,
      "metadata": {
        "id": "ubeb597jqaMn",
        "colab": {
          "base_uri": "https://localhost:8080/"
        },
        "outputId": "be6101e3-7e9f-49ee-bcc6-81b4f2dcdab4"
      },
      "outputs": [
        {
          "output_type": "execute_result",
          "data": {
            "text/plain": [
              "0.044126718568646986"
            ]
          },
          "metadata": {},
          "execution_count": 159
        }
      ],
      "source": [
        "data = np.random.normal(size=(15, 15))\n",
        "np.mean(data)"
      ]
    },
    {
      "cell_type": "code",
      "execution_count": 160,
      "metadata": {
        "id": "otNwU7ucqaMn",
        "colab": {
          "base_uri": "https://localhost:8080/"
        },
        "outputId": "ee7302f9-ae73-46a7-e6e6-6a7a15ce7b4b"
      },
      "outputs": [
        {
          "output_type": "execute_result",
          "data": {
            "text/plain": [
              "0.044126718568646986"
            ]
          },
          "metadata": {},
          "execution_count": 160
        }
      ],
      "source": [
        "data.mean()"
      ]
    },
    {
      "cell_type": "markdown",
      "metadata": {
        "id": "AK90lEACqaMn"
      },
      "source": [
        "Un tipo común de operación de agregación es un agregado a lo largo de una fila o columna."
      ]
    },
    {
      "cell_type": "code",
      "execution_count": 161,
      "metadata": {
        "id": "s_Z0q4xHqaMo",
        "colab": {
          "base_uri": "https://localhost:8080/"
        },
        "outputId": "da5e245f-bcab-4a74-fc27-90a08037eeb4"
      },
      "outputs": [
        {
          "output_type": "stream",
          "name": "stdout",
          "text": [
            "[[0.78911301 0.63111867 0.7285163  0.66979703 0.17088322 0.13881003]\n",
            " [0.00935403 0.63751707 0.76420221 0.1876222  0.95137218 0.44469986]\n",
            " [0.47577551 0.43077223 0.49532871 0.58341548 0.27654054 0.96025749]\n",
            " [0.12685672 0.38686572 0.29660634 0.99907694 0.00377931 0.82984241]\n",
            " [0.75816216 0.01685189 0.23811077 0.28054238 0.63922302 0.31781681]]\n"
          ]
        }
      ],
      "source": [
        "M = np.random.random((5, 6))\n",
        "print(M)"
      ]
    },
    {
      "cell_type": "markdown",
      "metadata": {
        "id": "9q0RaQs4qaMo"
      },
      "source": [
        "De forma predeterminada, cada función de agregación de  `NumPy`  devolverá el agregado sobre toda la matriz:"
      ]
    },
    {
      "cell_type": "code",
      "execution_count": 162,
      "metadata": {
        "id": "Mvn_GqRDqaMo",
        "colab": {
          "base_uri": "https://localhost:8080/"
        },
        "outputId": "23f83494-4e99-43ae-a153-a8f19097ba9b"
      },
      "outputs": [
        {
          "output_type": "execute_result",
          "data": {
            "text/plain": [
              "14.238830244406318"
            ]
          },
          "metadata": {},
          "execution_count": 162
        }
      ],
      "source": [
        "M.sum()"
      ]
    },
    {
      "cell_type": "markdown",
      "metadata": {
        "id": "vk6BEGcBqaMo"
      },
      "source": [
        "Las funciones de agregación toman un argumento adicional que especifica el eje a lo largo del cual se calcula el agregado. Por ejemplo, podemos encontrar el valor de la suma y el  mínimo de cada columna especificando `axis = 0`:"
      ]
    },
    {
      "cell_type": "code",
      "execution_count": 163,
      "metadata": {
        "id": "m45aeskcqaMp",
        "colab": {
          "base_uri": "https://localhost:8080/"
        },
        "outputId": "cbe06e1e-86be-4d89-f3eb-076c15c4e059"
      },
      "outputs": [
        {
          "output_type": "execute_result",
          "data": {
            "text/plain": [
              "array([2.15926144, 2.10312558, 2.52276433, 2.72045403, 2.04179827,\n",
              "       2.69142659])"
            ]
          },
          "metadata": {},
          "execution_count": 163
        }
      ],
      "source": [
        "M.sum(axis= 0)"
      ]
    },
    {
      "cell_type": "code",
      "execution_count": 164,
      "metadata": {
        "id": "7hcqoOstqaMp",
        "colab": {
          "base_uri": "https://localhost:8080/"
        },
        "outputId": "315ebb02-c9df-48c1-a80c-1c849ecd067b"
      },
      "outputs": [
        {
          "output_type": "execute_result",
          "data": {
            "text/plain": [
              "(10, 15)"
            ]
          },
          "metadata": {},
          "execution_count": 164
        }
      ],
      "source": [
        "data = np.random.normal(size=(5, 10, 15))\n",
        "data.sum(axis=0).shape"
      ]
    },
    {
      "cell_type": "code",
      "execution_count": 165,
      "metadata": {
        "id": "Rp1FO9UoqaMp",
        "colab": {
          "base_uri": "https://localhost:8080/"
        },
        "outputId": "7d1be3ff-81bc-4f74-eca1-524c1fed4f8b"
      },
      "outputs": [
        {
          "output_type": "execute_result",
          "data": {
            "text/plain": [
              "(10,)"
            ]
          },
          "metadata": {},
          "execution_count": 165
        }
      ],
      "source": [
        "data.sum(axis=(0, 2)).shape"
      ]
    },
    {
      "cell_type": "code",
      "execution_count": 166,
      "metadata": {
        "id": "aD18Ek0-qaMp",
        "colab": {
          "base_uri": "https://localhost:8080/"
        },
        "outputId": "cae5c8c6-acb1-480c-e04c-278150407f4f"
      },
      "outputs": [
        {
          "output_type": "execute_result",
          "data": {
            "text/plain": [
              "-40.96575138792459"
            ]
          },
          "metadata": {},
          "execution_count": 166
        }
      ],
      "source": [
        "data.sum()"
      ]
    },
    {
      "cell_type": "markdown",
      "metadata": {
        "id": "2m9jJXUYqaMp"
      },
      "source": [
        "Algunas funciones de agregación en `Numpy ` son :\n",
        "\n",
        "\n",
        "|Nombre de funcion  | VersionNaN-safe     | Descripcion                                   |\n",
        "|-------------------|---------------------|-----------------------------------------------|\n",
        "| ``np.sum``        | ``np.nansum``       | Calcula suma de elementos                     |\n",
        "| ``np.prod``       | ``np.nanprod``      | Calcula el producto de elementos              |\n",
        "| ``np.mean``       | ``np.nanmean``      | Calcula la media de elementos                 |\n",
        "| ``np.std``        | ``np.nanstd``       | Calcula la desviacion estandar                |\n",
        "| ``np.var``        | ``np.nanvar``       | Calcula la  varianza                          |\n",
        "| ``np.min``        | ``np.nanmin``       | Encuentra el minimo valor                     |\n",
        "| ``np.max``        | ``np.nanmax``       | Encuentra el maximo valor                     |\n",
        "| ``np.argmin``     | ``np.nanargmin``    | Encuenta el index del minimo valor            |\n",
        "| ``np.argmax``     | ``np.nanargmax``    | Encuentra el index del maximo valor           |\n",
        "| ``np.median``     | ``np.nanmedian``    | Calcula la mediana de elementos               |\n",
        "| ``np.percentile`` | ``np.nanpercentile``| Calcula el rango estatistico de elementos     |\n",
        "| ``np.any``        | N/A                 | Evalua si algun elemento es true              |\n",
        "| ``np.all``        | N/A                 | Evalua si todos los elementos son true        |\n",
        "\n"
      ]
    },
    {
      "cell_type": "markdown",
      "metadata": {
        "id": "2Sf0e5STqaMp"
      },
      "source": [
        "#### Broadcasting\n"
      ]
    },
    {
      "cell_type": "code",
      "execution_count": 167,
      "metadata": {
        "id": "5Fm9Ue4dqaMp",
        "colab": {
          "base_uri": "https://localhost:8080/"
        },
        "outputId": "a31edc51-1e4a-4380-db98-efbe570767eb"
      },
      "outputs": [
        {
          "output_type": "execute_result",
          "data": {
            "text/plain": [
              "array([2, 7, 3])"
            ]
          },
          "metadata": {},
          "execution_count": 167
        }
      ],
      "source": [
        "a = np.array([0, 1, 2])\n",
        "b = np.array([2, 6, 1])\n",
        "a + b"
      ]
    },
    {
      "cell_type": "markdown",
      "metadata": {
        "id": "8eGn-GPsqaMq"
      },
      "source": [
        "El  `broadcasting` permite que estos tipos de operaciones binarias se realicen en matrices de diferentes tamaños; por ejemplo, podemos añadir  un escalar (una matriz de dimensión cero) a una matriz:"
      ]
    },
    {
      "cell_type": "code",
      "execution_count": 168,
      "metadata": {
        "id": "OEK6G1FPqaMq",
        "colab": {
          "base_uri": "https://localhost:8080/"
        },
        "outputId": "3ec80fa7-41ca-4a60-f358-072f86183626"
      },
      "outputs": [
        {
          "output_type": "execute_result",
          "data": {
            "text/plain": [
              "array([5, 6, 7])"
            ]
          },
          "metadata": {},
          "execution_count": 168
        }
      ],
      "source": [
        "a + 5\n"
      ]
    },
    {
      "cell_type": "markdown",
      "metadata": {
        "id": "9ejWt-p-qaMq"
      },
      "source": [
        "Podemos extender de manera similar esto a matrices de mayor dimensión. Veamos el resultado cuando agregamos una matriz unidimensional a una matriz bidimensional:"
      ]
    },
    {
      "cell_type": "code",
      "execution_count": 169,
      "metadata": {
        "id": "sWyguM0TqaMq",
        "colab": {
          "base_uri": "https://localhost:8080/"
        },
        "outputId": "74771749-28e6-44ce-c34e-4ec1593d8b4e"
      },
      "outputs": [
        {
          "output_type": "execute_result",
          "data": {
            "text/plain": [
              "array([[ 0,  1,  2,  3],\n",
              "       [ 4,  5,  6,  7],\n",
              "       [ 8,  9, 10, 11],\n",
              "       [12, 13, 14, 15]])"
            ]
          },
          "metadata": {},
          "execution_count": 169
        }
      ],
      "source": [
        "A = np.arange(16).reshape(4, 4)\n",
        "b = np.arange(4)\n",
        "A"
      ]
    },
    {
      "cell_type": "code",
      "execution_count": 170,
      "metadata": {
        "id": "6s2ja74PqaMr",
        "colab": {
          "base_uri": "https://localhost:8080/"
        },
        "outputId": "fa513956-fa34-4235-d8ac-839a5715a367"
      },
      "outputs": [
        {
          "output_type": "execute_result",
          "data": {
            "text/plain": [
              "array([[ 0,  2,  4,  6],\n",
              "       [ 4,  6,  8, 10],\n",
              "       [ 8, 10, 12, 14],\n",
              "       [12, 14, 16, 18]])"
            ]
          },
          "metadata": {},
          "execution_count": 170
        }
      ],
      "source": [
        "A + b"
      ]
    },
    {
      "cell_type": "markdown",
      "metadata": {
        "id": "UZHfVQEAqaMr"
      },
      "source": [
        "Podemos aplicar el  `broadcasting` en dos matrices. Considere el siguiente ejemplo:"
      ]
    },
    {
      "cell_type": "code",
      "execution_count": 176,
      "metadata": {
        "id": "FgFkSWCRqaMr",
        "colab": {
          "base_uri": "https://localhost:8080/"
        },
        "outputId": "4081099b-cdf1-4497-fc05-9fd543235cc2"
      },
      "outputs": [
        {
          "output_type": "stream",
          "name": "stdout",
          "text": [
            "[[[11 22]\n",
            "  [13 24]\n",
            "  [15 26]]]\n"
          ]
        }
      ],
      "source": [
        "# Completar\n",
        "import numpy as np\n",
        "\n",
        "# Matriz A (3, 2)\n",
        "A = np.array([[1, 2],\n",
        "              [3, 4],\n",
        "              [5, 6]])\n",
        "\n",
        "# Matriz B (1, 2)\n",
        "B = np.array([[10, 20]])\n",
        "\n",
        "# Aplicar broadcasting para sumar las matrices\n",
        "resultado = A + B [:, np.newaxis]\n",
        "\n",
        "print(resultado)"
      ]
    },
    {
      "cell_type": "markdown",
      "metadata": {
        "id": "44rabvtDqaMs"
      },
      "source": [
        "###  Regla del broadcasting\n",
        "\n",
        "El `broadcasting` en `NumPy` sigue un estricto conjunto de reglas para determinar la interacción entre dos matrices :\n",
        "\n",
        "* Regla 1: Si las dos matrices difieren en su número de dimensiones, la forma de la matriz que tiene menos dimensiones se rellena con unos en el lado principal (izquierdo).\n",
        "\n",
        "* Regla 2: Si la forma de los dos matrices no coincide con ninguna dimensión, la matriz con la forma igual a 1 en esa dimensión se estira para que coincida con la otra dimensión.\n",
        "\n",
        "* Regla 3: Si en cualquier dimensión los tamaños son distintos y ninguno es igual a 1, se genera un error."
      ]
    },
    {
      "cell_type": "markdown",
      "metadata": {
        "id": "cthhoMVUqaMs"
      },
      "source": [
        "### Un útil truco:"
      ]
    },
    {
      "cell_type": "code",
      "execution_count": 171,
      "metadata": {
        "id": "TLkpSl3hqaMs",
        "colab": {
          "base_uri": "https://localhost:8080/"
        },
        "outputId": "81f0bb46-996b-4591-b327-c8428547c794"
      },
      "outputs": [
        {
          "output_type": "execute_result",
          "data": {
            "text/plain": [
              "(4,)"
            ]
          },
          "metadata": {},
          "execution_count": 171
        }
      ],
      "source": [
        "J = np.arange(0, 40, 10)\n",
        "J.shape"
      ]
    },
    {
      "cell_type": "code",
      "execution_count": 172,
      "metadata": {
        "id": "KhXkyiTpqaMs",
        "colab": {
          "base_uri": "https://localhost:8080/"
        },
        "outputId": "3f073c86-0456-4dd0-d794-7536e65f5c00"
      },
      "outputs": [
        {
          "output_type": "execute_result",
          "data": {
            "text/plain": [
              "(4, 1)"
            ]
          },
          "metadata": {},
          "execution_count": 172
        }
      ],
      "source": [
        "J = J[:, np.newaxis]  # agregamos un nuevo eje ->  matriz 2D\n",
        "J.shape"
      ]
    },
    {
      "cell_type": "code",
      "execution_count": 173,
      "metadata": {
        "id": "Zb16ZWGsqaMs",
        "colab": {
          "base_uri": "https://localhost:8080/"
        },
        "outputId": "35359c65-917f-4239-d9b3-da77ffe9052b"
      },
      "outputs": [
        {
          "output_type": "execute_result",
          "data": {
            "text/plain": [
              "array([[ 0],\n",
              "       [10],\n",
              "       [20],\n",
              "       [30]])"
            ]
          },
          "metadata": {},
          "execution_count": 173
        }
      ],
      "source": [
        "J"
      ]
    },
    {
      "cell_type": "code",
      "execution_count": 174,
      "metadata": {
        "id": "ncQuGxd5qaMs",
        "colab": {
          "base_uri": "https://localhost:8080/"
        },
        "outputId": "0b667b92-b400-4da8-8182-6baa58811d0b"
      },
      "outputs": [
        {
          "output_type": "execute_result",
          "data": {
            "text/plain": [
              "array([[ 3],\n",
              "       [13],\n",
              "       [23],\n",
              "       [33]])"
            ]
          },
          "metadata": {},
          "execution_count": 174
        }
      ],
      "source": [
        "J + 3"
      ]
    },
    {
      "cell_type": "markdown",
      "metadata": {
        "id": "1b5uLnfzqaMt"
      },
      "source": [
        "### Comparaciones, máscaras y lógica Booleana\n"
      ]
    },
    {
      "cell_type": "code",
      "execution_count": 81,
      "metadata": {
        "id": "MeYaAuW_qaMt",
        "colab": {
          "base_uri": "https://localhost:8080/"
        },
        "outputId": "9081a557-032e-4faa-83b8-9e321f014120"
      },
      "outputs": [
        {
          "output_type": "execute_result",
          "data": {
            "text/plain": [
              "array([ True,  True, False, False])"
            ]
          },
          "metadata": {},
          "execution_count": 81
        }
      ],
      "source": [
        "a1 = np.array([1, 2, 3, 4])\n",
        "b1 = np.array([4, 3, 2, 1])\n",
        "a1 < b1"
      ]
    },
    {
      "cell_type": "code",
      "execution_count": 82,
      "metadata": {
        "id": "Aqhi445LqaMt",
        "colab": {
          "base_uri": "https://localhost:8080/"
        },
        "outputId": "d0feebd5-8382-495d-a7a0-993c489f1096"
      },
      "outputs": [
        {
          "output_type": "execute_result",
          "data": {
            "text/plain": [
              "False"
            ]
          },
          "metadata": {},
          "execution_count": 82
        }
      ],
      "source": [
        "np.all(a1 < b1)"
      ]
    },
    {
      "cell_type": "code",
      "execution_count": 83,
      "metadata": {
        "id": "Mvvqq-tyqaMt",
        "colab": {
          "base_uri": "https://localhost:8080/"
        },
        "outputId": "8f74f60a-d30c-41c8-af2b-77096fd514ae"
      },
      "outputs": [
        {
          "output_type": "execute_result",
          "data": {
            "text/plain": [
              "True"
            ]
          },
          "metadata": {},
          "execution_count": 83
        }
      ],
      "source": [
        "np.any(a1 < b1)"
      ]
    },
    {
      "cell_type": "code",
      "execution_count": 84,
      "metadata": {
        "id": "_hKNRIasqaMt",
        "colab": {
          "base_uri": "https://localhost:8080/"
        },
        "outputId": "52d8a549-31e5-4d1a-b357-e4647b5ae0b7"
      },
      "outputs": [
        {
          "output_type": "stream",
          "name": "stdout",
          "text": [
            "Algunos elementos en a1 son menores que los elementos de b1\n"
          ]
        }
      ],
      "source": [
        "if np.all(a1 < b1):\n",
        "    print(\" Todos los elementos en a1 son menores que los elementos en b1 \")\n",
        "elif np.any(a1 < b1):\n",
        "    print(\"Algunos elementos en a1 son menores que los elementos de b1\")\n",
        "else:\n",
        "    print(\"Todos los elementos en b1 son menores que los elementos de a1\")"
      ]
    },
    {
      "cell_type": "markdown",
      "metadata": {
        "id": "2nLXUCapqaMt"
      },
      "source": [
        "Al aparecer en una expresión aritmética junto con un número escalar, u otra matriz `NumPy` con un tipo de datos numéricos, una matriz booleana se convierte en una matriz numérica con valores `0` y `1` en lugar de `False` y `True`, respectivamente."
      ]
    },
    {
      "cell_type": "code",
      "execution_count": 187,
      "metadata": {
        "id": "uHL9SWIVqaMu",
        "colab": {
          "base_uri": "https://localhost:8080/"
        },
        "outputId": "cc596e02-db1c-4eb6-cb85-c4f43a0a7f01"
      },
      "outputs": [
        {
          "output_type": "stream",
          "name": "stdout",
          "text": [
            "Matriz númerica con True y False\n",
            "[[ True False]\n",
            " [False  True]\n",
            " [ True False]]\n",
            "\n",
            "\n",
            "Multiplicando la matriz*2\n",
            "[[2 0]\n",
            " [0 2]\n",
            " [2 0]]\n",
            "\n",
            "\n",
            "Dividiendo la matriz booleana por otra matriz numérica\n",
            "[[1.   0.  ]\n",
            " [0.   0.25]\n",
            " [0.2  0.  ]]\n"
          ]
        }
      ],
      "source": [
        "# Completar\n",
        "print(\"Matriz númerica con True y False\")\n",
        "bool_mat = np.array([[True, False], [False, True], [True, False]])\n",
        "print(bool_mat)\n",
        "print(\"\\n\")\n",
        "\n",
        "\n",
        "# Multiplicar la matriz booleana por un número escalar\n",
        "print(\"Multiplicando la matriz*2\")\n",
        "result1 = bool_mat * 2\n",
        "\n",
        "# Dividiendo la matriz booleana por otra matriz numérica\n",
        "num_mat = np.array([[1, 2], [3, 4], [5, 6]])\n",
        "result2 = bool_mat / num_mat\n",
        "\n",
        "# Imprimiendo los resultados\n",
        "print(result1)\n",
        "print(\"\\n\")\n",
        "\n",
        "print(\"Dividiendo la matriz booleana por otra matriz numérica\")\n",
        "print(result2)\n"
      ]
    },
    {
      "cell_type": "markdown",
      "metadata": {
        "id": "tB_6ydqXqaMu"
      },
      "source": [
        "Esta es una propiedad útil para la computación condicional, como cuando se definen funciones."
      ]
    },
    {
      "cell_type": "code",
      "execution_count": 189,
      "metadata": {
        "id": "_ql1WHMbqaMu",
        "colab": {
          "base_uri": "https://localhost:8080/",
          "height": 472
        },
        "outputId": "35d098c6-d16a-4756-e630-225da522280d"
      },
      "outputs": [
        {
          "output_type": "display_data",
          "data": {
            "text/plain": [
              "<Figure size 640x480 with 1 Axes>"
            ],
            "image/png": "[encoded data removed]"
          },
          "metadata": {}
        }
      ],
      "source": [
        "#def pulso(t, posicion, altura, ancho):\n",
        "#    return altura * (t >= posicion) * (t <= (posicion + ancho))\n",
        "# Completar\n",
        "import numpy as np\n",
        "\n",
        "def pulso(t, posicion, altura, ancho):\n",
        "    return altura * (t >= posicion) * (t <= (posicion + ancho))\n",
        "\n",
        "# Conjunto de valores de tiempo\n",
        "t = np.linspace(0, 10, 1000)\n",
        "\n",
        "# Pulso rectangular con posición en t=2, altura de 1 y ancho de 3\n",
        "pulso_rectangular = pulso(t, 2, 1, 3)\n",
        "\n",
        "# Graficamos el resultado\n",
        "import matplotlib.pyplot as plt\n",
        "plt.plot(t, pulso_rectangular)\n",
        "plt.xlabel('Tiempo')\n",
        "plt.ylabel('Amplitud')\n",
        "plt.title('Pulso rectangular')\n",
        "plt.grid()\n",
        "plt.show()"
      ]
    },
    {
      "cell_type": "markdown",
      "metadata": {
        "id": "VpGU0FGBqaMu"
      },
      "source": [
        "### Matrices booleanas como máscaras\n",
        "\n",
        "Revisar: [masked array](https://docs.scipy.org/doc/numpy/reference/maskedarray.html)."
      ]
    },
    {
      "cell_type": "code",
      "execution_count": 80,
      "metadata": {
        "id": "4PQgtpS4qaMu",
        "colab": {
          "base_uri": "https://localhost:8080/"
        },
        "outputId": "3d333beb-54bf-468d-b6f8-302dbf646907"
      },
      "outputs": [
        {
          "output_type": "execute_result",
          "data": {
            "text/plain": [
              "array([False, False,  True, False, False,  True])"
            ]
          },
          "metadata": {},
          "execution_count": 80
        }
      ],
      "source": [
        "k = np.array([1, 3, -1, 5, 7, -1])\n",
        "mask = (k < 0)\n",
        "mask"
      ]
    },
    {
      "cell_type": "code",
      "execution_count": 79,
      "metadata": {
        "id": "KJ9jFSKuqaMv",
        "colab": {
          "base_uri": "https://localhost:8080/"
        },
        "outputId": "f553357c-23c3-409b-b325-4c9c2ed86583"
      },
      "outputs": [
        {
          "output_type": "execute_result",
          "data": {
            "text/plain": [
              "array([[5, 0, 3, 3],\n",
              "       [7, 9, 3, 5],\n",
              "       [2, 4, 7, 6]])"
            ]
          },
          "metadata": {},
          "execution_count": 79
        }
      ],
      "source": [
        "# Un ejemplo bidimensional\n",
        "rng = np.random.RandomState(0)\n",
        "z1 = rng.randint(10, size=(3, 4))\n",
        "z1"
      ]
    },
    {
      "cell_type": "code",
      "execution_count": 190,
      "metadata": {
        "id": "NXAwAvs8qaMv"
      },
      "outputs": [],
      "source": [
        "# Completar\n",
        "rng = np.random.RandomState(0)\n"
      ]
    },
    {
      "cell_type": "markdown",
      "metadata": {
        "id": "IvBwaoXEqaMv"
      },
      "source": [
        "Ahora, para seleccionar estos valores de la matriz, podemos simplemente indexar en esta matriz booleana, esto se conoce como una operación de `enmascaramiento`:"
      ]
    },
    {
      "cell_type": "code",
      "execution_count": 191,
      "metadata": {
        "id": "osgH-qNWqaMv",
        "colab": {
          "base_uri": "https://localhost:8080/"
        },
        "outputId": "ad9b0cb4-8293-4c87-f7a8-83fb1af827f5"
      },
      "outputs": [
        {
          "output_type": "stream",
          "name": "stdout",
          "text": [
            "[1 3 5 7 9]\n"
          ]
        }
      ],
      "source": [
        "# Completar\n",
        "import numpy as np\n",
        "\n",
        "# Matriz original\n",
        "mascara = np.array([[1, 2, 3],\n",
        "                   [4, 5, 6],\n",
        "                   [7, 8, 9]])\n",
        "\n",
        "# Enmascaramiento de la matriz que se hizo\n",
        "mascara = np.array([[True, False, True],\n",
        "                    [False, True, False],\n",
        "                    [True, False, True]])\n",
        "resultado = matriz[mascara]\n",
        "print(resultado)"
      ]
    },
    {
      "cell_type": "markdown",
      "metadata": {
        "id": "J1tyYXNeqaMv"
      },
      "source": [
        "El siguiente ejemplo muestra cómo sumar la matriz de enmascaramiento,  donde `True` representa uno y `False` representa 0."
      ]
    },
    {
      "cell_type": "code",
      "execution_count": 177,
      "metadata": {
        "id": "aTqwfAtAqaMv",
        "colab": {
          "base_uri": "https://localhost:8080/"
        },
        "outputId": "d39d40b0-a95c-4587-ffc9-70fcb7405b95"
      },
      "outputs": [
        {
          "output_type": "stream",
          "name": "stdout",
          "text": [
            "[[ 2  2  4]\n",
            " [ 4  6  6]\n",
            " [ 8  8 10]]\n"
          ]
        }
      ],
      "source": [
        "# Completar\n",
        "import numpy as np\n",
        "\n",
        "# Matriz original\n",
        "matriz = np.array([[1, 2, 3],\n",
        "                   [4, 5, 6],\n",
        "                   [7, 8, 9]])\n",
        "\n",
        "# Enmascaramiento de la matriz que se hizo\n",
        "mascara = np.array([[True, False, True],\n",
        "                    [False, True, False],\n",
        "                    [True, False, True]])\n",
        "\n",
        "# Sumar la matriz de enmascaramiento a la matriz original\n",
        "resultado = matriz + mascara\n",
        "resultado\n",
        "print(resultado)\n"
      ]
    },
    {
      "cell_type": "markdown",
      "metadata": {
        "id": "oqDn9SxmHRKr"
      },
      "source": [
        "### Lectura recomendada: [Numpy Reference](https://docs.scipy.org/doc/numpy/reference/)."
      ]
    },
    {
      "cell_type": "code",
      "execution_count": null,
      "metadata": {
        "id": "ZstWnij4qaMw"
      },
      "outputs": [],
      "source": []
    }
  ],
  "metadata": {
    "colab": {
      "provenance": [],
      "include_colab_link": true
    },
    "kernelspec": {
      "display_name": "Python 3",
      "language": "python",
      "name": "python3"
    },
    "language_info": {
      "codemirror_mode": {
        "name": "ipython",
        "version": 3
      },
      "file_extension": ".py",
      "mimetype": "text/x-python",
      "name": "python",
      "nbconvert_exporter": "python",
      "pygments_lexer": "ipython3",
      "version": "3.7.10"
    }
  },
  "nbformat": 4,
  "nbformat_minor": 0
}